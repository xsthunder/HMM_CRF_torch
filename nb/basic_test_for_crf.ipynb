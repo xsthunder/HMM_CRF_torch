{
 "cells": [
  {
   "cell_type": "markdown",
   "metadata": {},
   "source": [
    "# 目的\n",
    "\n",
    "我的crf出现 loss 从 > 0到 小于0\n",
    "\n",
    "问题是loss一般不会小于0\n",
    "\n",
    "## 问题解决\n",
    "\n",
    "原因是sum of path最后对z求和的时候使用sum而不是logsumexp"
   ]
  },
  {
   "cell_type": "markdown",
   "metadata": {
    "heading_collapsed": true
   },
   "source": [
    "#### set up"
   ]
  },
  {
   "cell_type": "code",
   "execution_count": 1,
   "metadata": {
    "ExecuteTime": {
     "end_time": "2020-03-22T11:16:56.521381Z",
     "start_time": "2020-03-22T11:16:56.509387Z"
    },
    "hidden": true
   },
   "outputs": [],
   "source": [
    "#export\n",
    "import sys\n",
    "if __name__ == '__main__': sys.path.append('..')\n",
    "import exp.common as common\n",
    "from pprint import pprint\n",
    "def pj(*args, **kargs):\n",
    "    if common.IN_JUPYTER:\n",
    "        pprint(*args, **kargs)"
   ]
  },
  {
   "cell_type": "code",
   "execution_count": 2,
   "metadata": {
    "ExecuteTime": {
     "end_time": "2020-03-22T11:16:56.588345Z",
     "start_time": "2020-03-22T11:16:56.524380Z"
    },
    "hidden": true
   },
   "outputs": [],
   "source": [
    "#test_export\n",
    "import sure"
   ]
  },
  {
   "cell_type": "code",
   "execution_count": 3,
   "metadata": {
    "ExecuteTime": {
     "end_time": "2020-03-22T11:16:57.445340Z",
     "start_time": "2020-03-22T11:16:56.591342Z"
    },
    "hidden": true
   },
   "outputs": [],
   "source": [
    "#export\n",
    "import torch\n",
    "from torch import optim\n",
    "from exp.CRF import CRF\n",
    "from exp.CRF import onehot\n",
    "import numpy as np\n",
    "num_label = 3\n",
    "inputs = np.array([\n",
    "    # seq\n",
    "    [\n",
    "        [0.1, 0.2, 0.1],\n",
    "        [0.1, 0.2, 0.3],\n",
    "    ]\n",
    "])\n",
    "LABELS = np.array([\n",
    "    [1,1]\n",
    "])\n",
    "labels = onehot(LABELS, 3)\n",
    "(inputs, labels, ) = map(torch.Tensor,  (inputs, labels, ) )\n",
    "(LABELS, ) = map(torch.LongTensor, (LABELS, ))\n",
    "MASK = torch.ones_like(LABELS, dtype=torch.bool)"
   ]
  },
  {
   "cell_type": "code",
   "execution_count": 4,
   "metadata": {
    "ExecuteTime": {
     "end_time": "2020-03-22T11:16:57.470546Z",
     "start_time": "2020-03-22T11:16:57.448324Z"
    },
    "hidden": true
   },
   "outputs": [],
   "source": [
    "#export\n",
    "# 没有提前取负号\n",
    "from torch import nn\n",
    "from lib.ConditionalRandomField import ConditionalRandomField, allowed_transitions\n",
    "label_dic = {'O':0, 'B-a':1, 'I-a':2}\n",
    "constraints = allowed_transitions(constraint_type='BIO', labels=label_dic)\n",
    "\n",
    "class J_crf(nn.Module):\n",
    "    def __init__(self):\n",
    "        super().__init__()\n",
    "        self.crf = ConditionalRandomField(num_tags=len(label_dic), constraints=constraints, include_start_end_transitions=False)\n",
    "    \n",
    "    def forward(self, inputs, labels):\n",
    "        return -self.crf(inputs, labels)"
   ]
  },
  {
   "cell_type": "code",
   "execution_count": 5,
   "metadata": {
    "ExecuteTime": {
     "end_time": "2020-03-22T11:16:57.972291Z",
     "start_time": "2020-03-22T11:16:57.473548Z"
    },
    "hidden": true
   },
   "outputs": [],
   "source": [
    "#export\n",
    "import matplotlib.pyplot as plt\n",
    "def pxy(x, y, name='idk'):\n",
    "    name = str(name)\n",
    "    fig, = plt.plot(x,y, )\n",
    "    fig.set_label(name)\n",
    "    plt.legend()\n",
    "# pxy([1,2], [3,2], '2')\n",
    "# pxy([1,2], [5,6], '1')"
   ]
  },
  {
   "cell_type": "markdown",
   "metadata": {
    "heading_collapsed": true
   },
   "source": [
    "#### my crf"
   ]
  },
  {
   "cell_type": "markdown",
   "metadata": {
    "heading_collapsed": true,
    "hidden": true
   },
   "source": [
    "###### 我的crf"
   ]
  },
  {
   "cell_type": "code",
   "execution_count": 6,
   "metadata": {
    "ExecuteTime": {
     "end_time": "2020-03-22T11:16:58.001956Z",
     "start_time": "2020-03-22T11:16:57.972291Z"
    },
    "hidden": true
   },
   "outputs": [],
   "source": [
    "#test_export\n",
    "# (路劲分数/配分函数) < 1\n",
    "# log(路劲分数/配分函数) < 0\n",
    "# -log(路劲分数/配分函数) > 0\n",
    "crf = CRF(num_label)\n",
    "args = (inputs, labels)\n",
    "loss = crf(inputs, labels)\n",
    "assert torch.all(loss > 0)"
   ]
  },
  {
   "cell_type": "code",
   "execution_count": 7,
   "metadata": {
    "ExecuteTime": {
     "end_time": "2020-03-22T11:16:58.030939Z",
     "start_time": "2020-03-22T11:16:58.010951Z"
    },
    "hidden": true
   },
   "outputs": [],
   "source": [
    "#test_export\n",
    "sop = crf._sum_over_path_score(*args).sum()\n",
    "ps = crf._path_score(*args).sum()\n",
    "# loss == spo - ps\n",
    "# sum of path 应该  > path score\n",
    "# 看了一边代码感觉没问题\n",
    "# 看了一下trans的初始化，有点区别，感觉没啥问题，都是有正有负，不过j的variance要大一些\n",
    "assert sop > ps, \"sum of path 应该  > path score\"\n",
    "del crf"
   ]
  },
  {
   "cell_type": "code",
   "execution_count": null,
   "metadata": {
    "ExecuteTime": {
     "end_time": "2020-03-22T09:31:14.821094Z",
     "start_time": "2020-03-22T09:31:14.809104Z"
    },
    "hidden": true
   },
   "outputs": [],
   "source": []
  },
  {
   "cell_type": "markdown",
   "metadata": {
    "heading_collapsed": true,
    "hidden": true
   },
   "source": [
    "##### 借用trans，对比分数"
   ]
  },
  {
   "cell_type": "code",
   "execution_count": 8,
   "metadata": {
    "ExecuteTime": {
     "end_time": "2020-03-22T11:16:58.319119Z",
     "start_time": "2020-03-22T11:16:58.038935Z"
    },
    "hidden": true
   },
   "outputs": [
    {
     "data": {
      "image/png": "[encoded data removed]",
      "text/plain": [
       "<Figure size 432x288 with 1 Axes>"
      ]
     },
     "metadata": {
      "needs_background": "light"
     },
     "output_type": "display_data"
    }
   ],
   "source": [
    "#test_export\n",
    "j_crf = J_crf()\n",
    "lr=1e-1\n",
    "op1 = optim.Adam(j_crf.parameters(), lr=lr)\n",
    "y=[]\n",
    "x=[]\n",
    "for i in range(30):\n",
    "    op1.zero_grad()\n",
    "    loss = j_crf(inputs, LABELS)\n",
    "    x.append(i) \n",
    "    y.append(loss.detach().numpy())\n",
    "    loss.backward()\n",
    "    op1.step()\n",
    "pxy(x,y, lr)"
   ]
  },
  {
   "cell_type": "code",
   "execution_count": 9,
   "metadata": {
    "ExecuteTime": {
     "end_time": "2020-03-22T11:16:58.327101Z",
     "start_time": "2020-03-22T11:16:58.322102Z"
    },
    "hidden": true
   },
   "outputs": [],
   "source": [
    "#test_export\n",
    "del j_crf"
   ]
  },
  {
   "cell_type": "code",
   "execution_count": 10,
   "metadata": {
    "ExecuteTime": {
     "end_time": "2020-03-22T11:16:58.346087Z",
     "start_time": "2020-03-22T11:16:58.330099Z"
    },
    "hidden": true
   },
   "outputs": [],
   "source": [
    "#test_export\n",
    "# 借用一下j_crf的tran矩阵\n",
    "# 同时检验两个path score, 和 sum of path score\n",
    "# crf.trans\n",
    "crf = CRF(num_label)\n",
    "j_crf = J_crf()\n",
    "j_crf.crf.transitions = nn.Parameter(torch.ones(3,3))\n",
    "crf.trans = nn.Parameter(j_crf.crf.transitions)"
   ]
  },
  {
   "cell_type": "code",
   "execution_count": 11,
   "metadata": {
    "ExecuteTime": {
     "end_time": "2020-03-22T11:16:58.369076Z",
     "start_time": "2020-03-22T11:16:58.348087Z"
    },
    "hidden": true
   },
   "outputs": [
    {
     "name": "stdout",
     "output_type": "stream",
     "text": [
      "tensor([[1.4000]], grad_fn=<AddBackward0>)\n"
     ]
    }
   ],
   "source": [
    "#test_export\n",
    "sop = crf._sum_over_path_score(*args)\n",
    "ps = crf._path_score(*args)\n",
    "# loss == spo - ps\n",
    "# print(sop, ps,  sop - ps, 'should >0')\n",
    "print(ps)\n",
    "# assert sop > ps, \"sum of path 应该  > path score\""
   ]
  },
  {
   "cell_type": "code",
   "execution_count": 12,
   "metadata": {
    "ExecuteTime": {
     "end_time": "2020-03-22T11:16:58.398063Z",
     "start_time": "2020-03-22T11:16:58.372073Z"
    },
    "hidden": true
   },
   "outputs": [
    {
     "data": {
      "text/plain": [
       "tensor([1.4000], grad_fn=<AddBackward0>)"
      ]
     },
     "execution_count": 12,
     "metadata": {},
     "output_type": "execute_result"
    }
   ],
   "source": [
    "#test_export\n",
    "# path score\n",
    "# 注意这里给LABELS，和我的不一样，否则会出现batch_size不一致的问题\n",
    "assert torch.allclose(ps,j_crf.crf._joint_likelihood(inputs, LABELS, MASK) )\n",
    "j_crf.crf._joint_likelihood(inputs, LABELS, MASK)"
   ]
  },
  {
   "cell_type": "code",
   "execution_count": 13,
   "metadata": {
    "ExecuteTime": {
     "end_time": "2020-03-22T11:16:58.415051Z",
     "start_time": "2020-03-22T11:16:58.404057Z"
    },
    "hidden": true
   },
   "outputs": [],
   "source": [
    "#test_export\n",
    "j_crf.crf._input_likelihood(inputs, MASK), sop\n",
    "assert torch.allclose(j_crf.crf._input_likelihood(inputs, MASK), sop)"
   ]
  },
  {
   "cell_type": "code",
   "execution_count": 14,
   "metadata": {
    "ExecuteTime": {
     "end_time": "2020-03-22T11:16:58.426044Z",
     "start_time": "2020-03-22T11:16:58.418047Z"
    },
    "hidden": true
   },
   "outputs": [],
   "source": [
    "# 试试trans初始值的设置？"
   ]
  },
  {
   "cell_type": "markdown",
   "metadata": {
    "heading_collapsed": true,
    "hidden": true
   },
   "source": [
    "##### 我的收敛能力"
   ]
  },
  {
   "cell_type": "code",
   "execution_count": 15,
   "metadata": {
    "ExecuteTime": {
     "end_time": "2020-03-22T11:16:59.092771Z",
     "start_time": "2020-03-22T11:16:58.430040Z"
    },
    "hidden": true
   },
   "outputs": [
    {
     "data": {
      "image/png": "[encoded data removed]",
      "text/plain": [
       "<Figure size 432x288 with 1 Axes>"
      ]
     },
     "metadata": {
      "needs_background": "light"
     },
     "output_type": "display_data"
    }
   ],
   "source": [
    "#test_export\n",
    "from torch.optim.lr_scheduler import CosineAnnealingLR\n",
    "from functools import partial\n",
    "\n",
    "tmp = J_crf()\n",
    "\n",
    "get_model = partial(CRF, num_label)\n",
    "# get_model, model, op, lr\n",
    "for lr in (1, 1e-1, 1e-2, 1e-3):\n",
    "    model = get_model()\n",
    "    \n",
    "    op = optim.Adam(model.parameters(), lr=lr)\n",
    "    y=[]\n",
    "    x=[]\n",
    "    for i in range(100):\n",
    "        op1.zero_grad()\n",
    "        loss = model(inputs, labels)\n",
    "        x.append(i) \n",
    "        y.append(loss.detach().numpy())\n",
    "        loss.backward()\n",
    "        op.step()\n",
    "    pxy(x,y, lr)\n",
    "\n",
    "del get_model, model, op, lr"
   ]
  },
  {
   "cell_type": "markdown",
   "metadata": {
    "heading_collapsed": true
   },
   "source": [
    "####  对比zxj crf"
   ]
  },
  {
   "cell_type": "code",
   "execution_count": 16,
   "metadata": {
    "ExecuteTime": {
     "end_time": "2020-03-22T11:16:59.107763Z",
     "start_time": "2020-03-22T11:16:59.095770Z"
    },
    "hidden": true
   },
   "outputs": [
    {
     "name": "stdout",
     "output_type": "stream",
     "text": [
      "tensor(2.1465) Parameter containing:\n",
      "tensor([[-0.8593,  0.0457,  0.0838],\n",
      "        [-0.3838, -0.0491,  0.4032],\n",
      "        [ 0.0420,  0.1610, -0.4706]], requires_grad=True)\n"
     ]
    }
   ],
   "source": [
    "#test_export\n",
    "j_crf = J_crf()\n",
    "op1 = optim.Adam(j_crf.parameters(), lr=1e-2)\n",
    "with torch.no_grad():\n",
    "    print(j_crf(inputs, LABELS), j_crf.crf.transitions)"
   ]
  },
  {
   "cell_type": "code",
   "execution_count": 17,
   "metadata": {
    "ExecuteTime": {
     "end_time": "2020-03-22T11:16:59.881488Z",
     "start_time": "2020-03-22T11:16:59.110759Z"
    },
    "hidden": true
   },
   "outputs": [
    {
     "data": {
      "image/png": "[encoded data removed]",
      "text/plain": [
       "<Figure size 432x288 with 1 Axes>"
      ]
     },
     "metadata": {
      "needs_background": "light"
     },
     "output_type": "display_data"
    }
   ],
   "source": [
    "#test_export\n",
    "for lr in (1, 1e-1, 1e-2, 1e-3):\n",
    "    j_crf = J_crf()\n",
    "    op1 = optim.Adam(j_crf.parameters(), lr=lr)\n",
    "    y=[]\n",
    "    x=[]\n",
    "    for i in range(100):\n",
    "        op1.zero_grad()\n",
    "        loss = j_crf(inputs, LABELS)\n",
    "        x.append(i) \n",
    "        y.append(loss.detach().numpy())\n",
    "        loss.backward()\n",
    "        op1.step()\n",
    "    pxy(x,y, lr)\n",
    "    del j_crf"
   ]
  },
  {
   "cell_type": "code",
   "execution_count": 18,
   "metadata": {
    "ExecuteTime": {
     "end_time": "2020-03-22T11:16:59.887485Z",
     "start_time": "2020-03-22T11:16:59.884486Z"
    },
    "hidden": true
   },
   "outputs": [],
   "source": [
    "# 结论正常"
   ]
  },
  {
   "cell_type": "markdown",
   "metadata": {
    "heading_collapsed": true
   },
   "source": [
    "#### 测试viterbi"
   ]
  },
  {
   "cell_type": "code",
   "execution_count": 19,
   "metadata": {
    "ExecuteTime": {
     "end_time": "2020-03-22T11:17:00.280262Z",
     "start_time": "2020-03-22T11:16:59.890481Z"
    },
    "hidden": true
   },
   "outputs": [
    {
     "data": {
      "image/png": "[encoded data removed]",
      "text/plain": [
       "<Figure size 432x288 with 1 Axes>"
      ]
     },
     "metadata": {
      "needs_background": "light"
     },
     "output_type": "display_data"
    }
   ],
   "source": [
    "#test_export\n",
    "from exp.CRF import viterbi\n",
    "from functools import partial\n",
    "\n",
    "get_model = partial(CRF, num_label)\n",
    "model = get_model()\n",
    "\n",
    "lr = 1e-1\n",
    "op = optim.Adam(model.parameters(), lr=lr)\n",
    "y=[]\n",
    "x=[]\n",
    "for i in range(100):\n",
    "    op1.zero_grad()\n",
    "    loss = model(inputs, labels)\n",
    "    x.append(i) \n",
    "    y.append(loss.detach().numpy())\n",
    "    loss.backward()\n",
    "    op.step()\n",
    "pxy(x,y, lr)\n",
    "\n",
    "with torch.no_grad():\n",
    "    a = viterbi(inputs[0], model.trans) \n",
    "\n",
    "assert torch.allclose(torch.LongTensor(a), LABELS)\n",
    "del get_model, model, op, lr, a"
   ]
  },
  {
   "cell_type": "code",
   "execution_count": 20,
   "metadata": {
    "ExecuteTime": {
     "end_time": "2020-03-22T11:17:01.768114Z",
     "start_time": "2020-03-22T11:17:00.283257Z"
    },
    "hidden": true
   },
   "outputs": [
    {
     "data": {
      "application/javascript": [
       "IPython.notebook.save_checkpoint();"
      ],
      "text/plain": [
       "<IPython.core.display.Javascript object>"
      ]
     },
     "metadata": {},
     "output_type": "display_data"
    },
    {
     "name": "stdout",
     "output_type": "stream",
     "text": [
      "Converted basic_test_for_crf.ipynb to ..\\exp\\basic_test_for_crf.py\n",
      "Converted basic_test_for_crf.ipynb to ..\\test\\test_basic_test_for_crf.py\n"
     ]
    },
    {
     "data": {
      "application/javascript": [
       "IPython.notebook.save_checkpoint();"
      ],
      "text/plain": [
       "<IPython.core.display.Javascript object>"
      ]
     },
     "metadata": {},
     "output_type": "display_data"
    }
   ],
   "source": [
    "common.save_and_export_notebook('basic_test_for_crf')"
   ]
  },
  {
   "cell_type": "code",
   "execution_count": null,
   "metadata": {
    "hidden": true
   },
   "outputs": [],
   "source": []
  }
 ],
 "metadata": {
  "kernelspec": {
   "display_name": "py3torch-cpu",
   "language": "python",
   "name": "py3torch-cpu"
  },
  "language_info": {
   "codemirror_mode": {
    "name": "ipython",
    "version": 3
   },
   "file_extension": ".py",
   "mimetype": "text/x-python",
   "name": "python",
   "nbconvert_exporter": "python",
   "pygments_lexer": "ipython3",
   "version": "3.7.6"
  }
 },
 "nbformat": 4,
 "nbformat_minor": 2
}
