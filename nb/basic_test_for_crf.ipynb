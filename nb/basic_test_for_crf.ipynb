{
 "cells": [
  {
   "cell_type": "markdown",
   "metadata": {},
   "source": [
    "# 目的\n",
    "\n",
    "我的crf出现 loss 从 > 0到 小于0\n",
    "\n",
    "问题是loss一般不会小于0\n",
    "\n",
    "## 问题解决\n",
    "\n",
    "原因是sum of path最后对z求和的时候使用sum而不是logsumexp"
   ]
  },
  {
   "cell_type": "markdown",
   "metadata": {
    "heading_collapsed": true
   },
   "source": [
    "#### set up"
   ]
  },
  {
   "cell_type": "code",
   "execution_count": 1,
   "metadata": {
    "ExecuteTime": {
     "end_time": "2020-03-22T09:31:13.546232Z",
     "start_time": "2020-03-22T09:31:13.533536Z"
    },
    "hidden": true
   },
   "outputs": [],
   "source": [
    "#export\n",
    "import sys\n",
    "if __name__ == '__main__': sys.path.append('..')\n",
    "import exp.common as common\n",
    "from pprint import pprint\n",
    "def pj(*args, **kargs):\n",
    "    if common.IN_JUPYTER:\n",
    "        pprint(*args, **kargs)"
   ]
  },
  {
   "cell_type": "code",
   "execution_count": 2,
   "metadata": {
    "ExecuteTime": {
     "end_time": "2020-03-22T09:31:13.600205Z",
     "start_time": "2020-03-22T09:31:13.548232Z"
    },
    "hidden": true
   },
   "outputs": [],
   "source": [
    "#test_export\n",
    "import sure"
   ]
  },
  {
   "cell_type": "code",
   "execution_count": 3,
   "metadata": {
    "ExecuteTime": {
     "end_time": "2020-03-22T09:31:14.304183Z",
     "start_time": "2020-03-22T09:31:13.604200Z"
    },
    "hidden": true
   },
   "outputs": [],
   "source": [
    "#export\n",
    "import torch\n",
    "from torch import optim\n",
    "from exp.CRF import CRF\n",
    "from exp.CRF import onehot\n",
    "import numpy as np\n",
    "num_label = 3\n",
    "inputs = np.array([\n",
    "    # seq\n",
    "    [\n",
    "        [0.1, 0.2, 0.1],\n",
    "        [0.1, 0.2, 0.3],\n",
    "    ]\n",
    "])\n",
    "LABELS = np.array([\n",
    "    [1,1]\n",
    "])\n",
    "labels = onehot(LABELS, 3)\n",
    "(inputs, labels, ) = map(torch.Tensor,  (inputs, labels, ) )\n",
    "(LABELS, ) = map(torch.LongTensor, (LABELS, ))\n",
    "MASK = torch.ones_like(LABELS, dtype=torch.bool)"
   ]
  },
  {
   "cell_type": "code",
   "execution_count": 4,
   "metadata": {
    "ExecuteTime": {
     "end_time": "2020-03-22T09:31:14.320893Z",
     "start_time": "2020-03-22T09:31:14.304183Z"
    },
    "hidden": true
   },
   "outputs": [],
   "source": [
    "#export\n",
    "# 没有提前取负号\n",
    "from torch import nn\n",
    "from lib.ConditionalRandomField import ConditionalRandomField, allowed_transitions\n",
    "label_dic = {'O':0, 'B-a':1, 'I-a':2}\n",
    "constraints = allowed_transitions(constraint_type='BIO', labels=label_dic)\n",
    "\n",
    "class J_crf(nn.Module):\n",
    "    def __init__(self):\n",
    "        super().__init__()\n",
    "        self.crf = ConditionalRandomField(num_tags=len(label_dic), constraints=constraints, include_start_end_transitions=False)\n",
    "    \n",
    "    def forward(self, inputs, labels):\n",
    "        return -self.crf(inputs, labels)"
   ]
  },
  {
   "cell_type": "code",
   "execution_count": 5,
   "metadata": {
    "ExecuteTime": {
     "end_time": "2020-03-22T09:31:14.709405Z",
     "start_time": "2020-03-22T09:31:14.323871Z"
    },
    "hidden": true
   },
   "outputs": [],
   "source": [
    "#export\n",
    "import matplotlib.pyplot as plt\n",
    "def pxy(x, y, name='idk'):\n",
    "    name = str(name)\n",
    "    fig, = plt.plot(x,y, )\n",
    "    fig.set_label(name)\n",
    "    plt.legend()\n",
    "# pxy([1,2], [3,2], '2')\n",
    "# pxy([1,2], [5,6], '1')"
   ]
  },
  {
   "cell_type": "markdown",
   "metadata": {},
   "source": [
    "#### my crf"
   ]
  },
  {
   "cell_type": "markdown",
   "metadata": {
    "heading_collapsed": true
   },
   "source": [
    "###### 我的crf"
   ]
  },
  {
   "cell_type": "code",
   "execution_count": 48,
   "metadata": {
    "ExecuteTime": {
     "end_time": "2020-03-22T09:41:00.814867Z",
     "start_time": "2020-03-22T09:41:00.806871Z"
    },
    "hidden": true
   },
   "outputs": [],
   "source": [
    "#test_export\n",
    "# (路劲分数/配分函数) < 1\n",
    "# log(路劲分数/配分函数) < 0\n",
    "# -log(路劲分数/配分函数) > 0\n",
    "args = (inputs, labels)\n",
    "loss = crf(inputs, labels)\n",
    "assert torch.all(loss > 0)"
   ]
  },
  {
   "cell_type": "code",
   "execution_count": 49,
   "metadata": {
    "ExecuteTime": {
     "end_time": "2020-03-22T09:41:54.650601Z",
     "start_time": "2020-03-22T09:41:54.639606Z"
    },
    "hidden": true
   },
   "outputs": [],
   "source": [
    "#test_export\n",
    "sop = crf._sum_over_path_score(*args).sum()\n",
    "ps = crf._path_score(*args).sum()\n",
    "# loss == spo - ps\n",
    "# sum of path 应该  > path score\n",
    "# 看了一边代码感觉没问题\n",
    "# 看了一下trans的初始化，有点区别，感觉没啥问题，都是有正有负，不过j的variance要大一些\n",
    "assert sop > ps, \"sum of path 应该  > path score\"\n",
    "del crf"
   ]
  },
  {
   "cell_type": "code",
   "execution_count": 10,
   "metadata": {
    "ExecuteTime": {
     "end_time": "2020-03-22T09:31:14.821094Z",
     "start_time": "2020-03-22T09:31:14.809104Z"
    },
    "hidden": true
   },
   "outputs": [],
   "source": []
  },
  {
   "cell_type": "markdown",
   "metadata": {
    "heading_collapsed": true
   },
   "source": [
    "##### 借用trans，对比分数"
   ]
  },
  {
   "cell_type": "code",
   "execution_count": 11,
   "metadata": {
    "ExecuteTime": {
     "end_time": "2020-03-22T09:31:15.134676Z",
     "start_time": "2020-03-22T09:31:14.825090Z"
    },
    "hidden": true
   },
   "outputs": [
    {
     "data": {
      "image/png": "[encoded data removed]",
      "text/plain": [
       "<Figure size 432x288 with 1 Axes>"
      ]
     },
     "metadata": {
      "needs_background": "light"
     },
     "output_type": "display_data"
    }
   ],
   "source": [
    "j_crf = J_crf()\n",
    "op1 = optim.Adam(j_crf.parameters(), lr=1e-1)\n",
    "y=[]\n",
    "x=[]\n",
    "for i in range(30):\n",
    "    op1.zero_grad()\n",
    "    loss = j_crf(inputs, LABELS)\n",
    "    x.append(i) \n",
    "    y.append(loss.detach().numpy())\n",
    "    loss.backward()\n",
    "    op1.step()\n",
    "pxy(x,y, lr)"
   ]
  },
  {
   "cell_type": "code",
   "execution_count": 12,
   "metadata": {
    "ExecuteTime": {
     "end_time": "2020-03-22T09:31:15.142671Z",
     "start_time": "2020-03-22T09:31:15.137675Z"
    },
    "hidden": true
   },
   "outputs": [],
   "source": [
    "del j_crf"
   ]
  },
  {
   "cell_type": "code",
   "execution_count": 13,
   "metadata": {
    "ExecuteTime": {
     "end_time": "2020-03-22T09:31:15.163658Z",
     "start_time": "2020-03-22T09:31:15.146669Z"
    },
    "hidden": true
   },
   "outputs": [],
   "source": [
    "# 借用一下j_crf的tran矩阵\n",
    "# 同时检验两个path score, 和 sum of path score\n",
    "# crf.trans\n",
    "crf = CRF(num_label)\n",
    "j_crf = J_crf()\n",
    "j_crf.crf.transitions = nn.Parameter(torch.ones(3,3))\n",
    "crf.trans = nn.Parameter(j_crf.crf.transitions)"
   ]
  },
  {
   "cell_type": "code",
   "execution_count": 14,
   "metadata": {
    "ExecuteTime": {
     "end_time": "2020-03-22T09:31:15.195984Z",
     "start_time": "2020-03-22T09:31:15.166659Z"
    },
    "hidden": true
   },
   "outputs": [
    {
     "name": "stdout",
     "output_type": "stream",
     "text": [
      "tensor([[1.4000]], grad_fn=<AddBackward0>)\n"
     ]
    }
   ],
   "source": [
    "sop = crf._sum_over_path_score(*args)\n",
    "ps = crf._path_score(*args)\n",
    "# loss == spo - ps\n",
    "# print(sop, ps,  sop - ps, 'should >0')\n",
    "print(ps)\n",
    "# assert sop > ps, \"sum of path 应该  > path score\""
   ]
  },
  {
   "cell_type": "code",
   "execution_count": 15,
   "metadata": {
    "ExecuteTime": {
     "end_time": "2020-03-22T09:31:15.220970Z",
     "start_time": "2020-03-22T09:31:15.200988Z"
    },
    "hidden": true
   },
   "outputs": [
    {
     "data": {
      "text/plain": [
       "tensor([1.4000], grad_fn=<AddBackward0>)"
      ]
     },
     "execution_count": 15,
     "metadata": {},
     "output_type": "execute_result"
    }
   ],
   "source": [
    "# path score\n",
    "# 注意这里给LABELS，和我的不一样，否则会出现batch_size不一致的问题\n",
    "assert torch.allclose(ps,j_crf.crf._joint_likelihood(inputs, LABELS, MASK) )\n",
    "j_crf.crf._joint_likelihood(inputs, LABELS, MASK)"
   ]
  },
  {
   "cell_type": "code",
   "execution_count": 17,
   "metadata": {
    "ExecuteTime": {
     "end_time": "2020-03-22T09:31:42.628377Z",
     "start_time": "2020-03-22T09:31:42.618387Z"
    },
    "hidden": true
   },
   "outputs": [
    {
     "name": "stdout",
     "output_type": "stream",
     "text": [
      "[torch.Size([1, 2, 3]), torch.Size([1, 2, 3])]\n"
     ]
    }
   ],
   "source": [
    "j_crf.crf._input_likelihood(inputs, MASK), sop\n",
    "assert torch.allclose(j_crf.crf._input_likelihood(inputs, MASK), sop)"
   ]
  },
  {
   "cell_type": "code",
   "execution_count": 19,
   "metadata": {
    "ExecuteTime": {
     "end_time": "2020-03-21T09:11:44.741252Z",
     "start_time": "2020-03-21T09:11:44.728264Z"
    },
    "hidden": true
   },
   "outputs": [],
   "source": [
    "# 试试trans初始值的设置？"
   ]
  },
  {
   "cell_type": "markdown",
   "metadata": {
    "heading_collapsed": true
   },
   "source": [
    "##### 我的收敛能力"
   ]
  },
  {
   "cell_type": "code",
   "execution_count": 42,
   "metadata": {
    "ExecuteTime": {
     "end_time": "2020-03-22T09:39:45.971797Z",
     "start_time": "2020-03-22T09:39:45.245928Z"
    },
    "hidden": true
   },
   "outputs": [
    {
     "data": {
      "image/png": "[encoded data removed]",
      "text/plain": [
       "<Figure size 432x288 with 1 Axes>"
      ]
     },
     "metadata": {
      "needs_background": "light"
     },
     "output_type": "display_data"
    }
   ],
   "source": [
    "from torch.optim.lr_scheduler import CosineAnnealingLR\n",
    "from functools import partial\n",
    "\n",
    "tmp = J_crf()\n",
    "\n",
    "get_model = partial(CRF, num_label)\n",
    "# get_model, model, op, lr\n",
    "for lr in (1, 1e-1, 1e-2, 1e-3):\n",
    "    model = get_model()\n",
    "    \n",
    "    op = optim.Adam(model.parameters(), lr=lr)\n",
    "    y=[]\n",
    "    x=[]\n",
    "    for i in range(100):\n",
    "        op1.zero_grad()\n",
    "        loss = model(inputs, labels)\n",
    "        x.append(i) \n",
    "        y.append(loss.detach().numpy())\n",
    "        loss.backward()\n",
    "        op.step()\n",
    "    pxy(x,y, lr)\n",
    "\n",
    "del get_model, model, op, lr"
   ]
  },
  {
   "cell_type": "markdown",
   "metadata": {
    "heading_collapsed": true
   },
   "source": [
    "####  对比zxj crf"
   ]
  },
  {
   "cell_type": "code",
   "execution_count": 23,
   "metadata": {
    "ExecuteTime": {
     "end_time": "2020-03-21T09:11:44.860186Z",
     "start_time": "2020-03-21T09:11:44.837210Z"
    },
    "hidden": true
   },
   "outputs": [
    {
     "name": "stdout",
     "output_type": "stream",
     "text": [
      "tensor(2.9719) Parameter containing:\n",
      "tensor([[ 0.7490,  0.8543,  0.4227],\n",
      "        [ 0.2217, -0.5993, -0.0018],\n",
      "        [-0.8751,  0.0676,  0.2234]], requires_grad=True)\n"
     ]
    }
   ],
   "source": [
    "    \n",
    "j_crf = J_crf()\n",
    "op1 = optim.Adam(j_crf.parameters(), lr=1e-2)\n",
    "with torch.no_grad():\n",
    "    print(j_crf(inputs, LABELS), j_crf.crf.transitions)"
   ]
  },
  {
   "cell_type": "code",
   "execution_count": 39,
   "metadata": {
    "ExecuteTime": {
     "end_time": "2020-03-22T09:38:02.876018Z",
     "start_time": "2020-03-22T09:38:02.128663Z"
    },
    "hidden": true
   },
   "outputs": [
    {
     "data": {
      "image/png": "[encoded data removed]",
      "text/plain": [
       "<Figure size 432x288 with 1 Axes>"
      ]
     },
     "metadata": {
      "needs_background": "light"
     },
     "output_type": "display_data"
    }
   ],
   "source": [
    "for lr in (1, 1e-1, 1e-2, 1e-3):\n",
    "    j_crf = J_crf()\n",
    "    op1 = optim.Adam(j_crf.parameters(), lr=lr)\n",
    "    y=[]\n",
    "    x=[]\n",
    "    for i in range(100):\n",
    "        op1.zero_grad()\n",
    "        loss = j_crf(inputs, LABELS)\n",
    "        x.append(i) \n",
    "        y.append(loss.detach().numpy())\n",
    "        loss.backward()\n",
    "        op1.step()\n",
    "    pxy(x,y, lr)\n",
    "    del j_crf"
   ]
  },
  {
   "cell_type": "code",
   "execution_count": 25,
   "metadata": {
    "ExecuteTime": {
     "end_time": "2020-03-21T09:11:46.031758Z",
     "start_time": "2020-03-21T09:11:46.026761Z"
    },
    "hidden": true
   },
   "outputs": [],
   "source": [
    "# 结论正常"
   ]
  },
  {
   "cell_type": "markdown",
   "metadata": {},
   "source": [
    "#### 测试viterbi"
   ]
  },
  {
   "cell_type": "code",
   "execution_count": 67,
   "metadata": {
    "ExecuteTime": {
     "end_time": "2020-03-22T09:55:27.347378Z",
     "start_time": "2020-03-22T09:55:27.002267Z"
    }
   },
   "outputs": [
    {
     "data": {
      "image/png": "[encoded data removed]",
      "text/plain": [
       "<Figure size 432x288 with 1 Axes>"
      ]
     },
     "metadata": {
      "needs_background": "light"
     },
     "output_type": "display_data"
    }
   ],
   "source": [
    "from exp.CRF import viterbi\n",
    "from functools import partial\n",
    "\n",
    "get_model = partial(CRF, num_label)\n",
    "model = get_model()\n",
    "\n",
    "lr = 1e-1\n",
    "op = optim.Adam(model.parameters(), lr=lr)\n",
    "y=[]\n",
    "x=[]\n",
    "for i in range(100):\n",
    "    op1.zero_grad()\n",
    "    loss = model(inputs, labels)\n",
    "    x.append(i) \n",
    "    y.append(loss.detach().numpy())\n",
    "    loss.backward()\n",
    "    op.step()\n",
    "pxy(x,y, lr)\n",
    "\n",
    "with torch.no_grad():\n",
    "    a = viterbi(inputs[0], model.trans) \n",
    "\n",
    "assert torch.allclose(torch.LongTensor(a), LABELS)\n",
    "del get_model, model, op, lr, a"
   ]
  },
  {
   "cell_type": "code",
   "execution_count": 72,
   "metadata": {
    "ExecuteTime": {
     "end_time": "2020-03-22T09:56:37.868099Z",
     "start_time": "2020-03-22T09:56:36.452704Z"
    }
   },
   "outputs": [
    {
     "data": {
      "application/javascript": [
       "IPython.notebook.save_checkpoint();"
      ],
      "text/plain": [
       "<IPython.core.display.Javascript object>"
      ]
     },
     "metadata": {},
     "output_type": "display_data"
    },
    {
     "name": "stdout",
     "output_type": "stream",
     "text": [
      "Converted basic_test_for_crf.ipynb to ..\\exp\\basic_test_for_crf.py\n",
      "Converted basic_test_for_crf.ipynb to ..\\test\\test_basic_test_for_crf.py\n"
     ]
    },
    {
     "data": {
      "application/javascript": [
       "IPython.notebook.save_checkpoint();"
      ],
      "text/plain": [
       "<IPython.core.display.Javascript object>"
      ]
     },
     "metadata": {},
     "output_type": "display_data"
    }
   ],
   "source": [
    "common.save_and_export_notebook('basic_test_for_crf')"
   ]
  },
  {
   "cell_type": "code",
   "execution_count": null,
   "metadata": {},
   "outputs": [],
   "source": []
  }
 ],
 "metadata": {
  "kernelspec": {
   "display_name": "py3torch-cpu",
   "language": "python",
   "name": "py3torch-cpu"
  },
  "language_info": {
   "codemirror_mode": {
    "name": "ipython",
    "version": 3
   },
   "file_extension": ".py",
   "mimetype": "text/x-python",
   "name": "python",
   "nbconvert_exporter": "python",
   "pygments_lexer": "ipython3",
   "version": "3.7.6"
  }
 },
 "nbformat": 4,
 "nbformat_minor": 2
}
