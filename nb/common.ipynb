{
 "cells": [
  {
   "cell_type": "code",
   "execution_count": 1,
   "metadata": {
    "ExecuteTime": {
     "end_time": "2020-03-22T11:47:33.569958Z",
     "start_time": "2020-03-22T11:47:33.556966Z"
    }
   },
   "outputs": [],
   "source": [
    "from datetime import datetime\n",
    "import sys\n",
    "def now():return mktime(datetime.now().timetuple())\n",
    "def now_s():\n",
    "    s = datetime.now().isoformat()\n",
    "    return s[:s.index('.')]\n",
    "now_s()\n",
    "\n",
    "def timer(slient_mode = False):\n",
    "    pf = print\n",
    "    def empty_func(*args):\n",
    "        pass\n",
    "    pf = empty_func if slient_mode else print\n",
    "    \n",
    "    def split_by_time(*args):\n",
    "        pf(\"-\"*60 , now_s(), *args)\n",
    "    \n",
    "    split_by_time()\n",
    "    t1 = now()\n",
    "    yield t1, 0\n",
    "    \n",
    "    while True:\n",
    "        t2 = now()\n",
    "        split_by_time(\"time costs %2d secs\"%(t2 - t1))\n",
    "        yield t2, t2 - t1"
   ]
  },
  {
   "cell_type": "code",
   "execution_count": 2,
   "metadata": {
    "ExecuteTime": {
     "end_time": "2020-03-22T11:47:33.583949Z",
     "start_time": "2020-03-22T11:47:33.573956Z"
    }
   },
   "outputs": [],
   "source": [
    "#export\n",
    "import os\n",
    "\n",
    "IN_TRAVIS=(os.getenv('TRAVIS', False) == 'true')"
   ]
  },
  {
   "cell_type": "code",
   "execution_count": 3,
   "metadata": {
    "ExecuteTime": {
     "end_time": "2020-03-22T11:47:33.601940Z",
     "start_time": "2020-03-22T11:47:33.587948Z"
    }
   },
   "outputs": [],
   "source": [
    "#export\n",
    "#https://stackoverflow.com/questions/15411967/how-can-i-check-if-code-is-executed-in-the-ipython-notebook\n",
    "def isnotebook():\n",
    "    try:\n",
    "        shell = get_ipython().__class__.__name__\n",
    "        if shell == 'ZMQInteractiveShell':\n",
    "            return True   # Jupyter notebook or qtconsole\n",
    "        elif shell == 'TerminalInteractiveShell':\n",
    "            return False  # Terminal running IPython\n",
    "        else:\n",
    "            return False  # Other type (?)\n",
    "    except NameError: \n",
    "        return False      # Probably standard Python interpreter\n",
    "IN_JUPYTER = isnotebook()"
   ]
  },
  {
   "cell_type": "code",
   "execution_count": 4,
   "metadata": {
    "ExecuteTime": {
     "end_time": "2020-03-22T11:47:33.651911Z",
     "start_time": "2020-03-22T11:47:33.604937Z"
    }
   },
   "outputs": [],
   "source": [
    "#export\n",
    "import tqdm as _tqdm\n",
    "def _simple_tqdm(g):\n",
    "    \"\"\"\n",
    "    for travis\n",
    "    \"\"\"\n",
    "    try:\n",
    "        l = len(g)\n",
    "    except TypeError:\n",
    "        l = '?'\n",
    "    for i,x in enumerate(g):\n",
    "        print(f\"({i}/{l})\", end='')\n",
    "        yield x\n",
    "        \n",
    "if IN_JUPYTER:\n",
    "    tqdm = _tqdm.tqdm_notebook\n",
    "elif IN_TRAVIS:\n",
    "    tqdm = _simple_tqdm\n",
    "else :\n",
    "    tqdm = _tqdm.tqdm"
   ]
  },
  {
   "cell_type": "markdown",
   "metadata": {},
   "source": [
    "## notebook"
   ]
  },
  {
   "cell_type": "code",
   "execution_count": 5,
   "metadata": {
    "ExecuteTime": {
     "end_time": "2020-03-22T11:47:33.667902Z",
     "start_time": "2020-03-22T11:47:33.655909Z"
    }
   },
   "outputs": [],
   "source": [
    "# export\n",
    "def ex_command(code):\n",
    "    ip = get_ipython()\n",
    "    ip.run_cell(code)"
   ]
  },
  {
   "cell_type": "code",
   "execution_count": 6,
   "metadata": {
    "ExecuteTime": {
     "end_time": "2020-03-22T11:47:33.690889Z",
     "start_time": "2020-03-22T11:47:33.674898Z"
    }
   },
   "outputs": [],
   "source": [
    "#export\n",
    "\n",
    "# use those only in jupyter\n",
    "from IPython.display import display, Javascript\n",
    "import time\n",
    "\n",
    "def save_notebook(): display(Javascript('IPython.notebook.save_checkpoint();'))\n",
    "\n",
    "def restart_kernel():display(Javascript('IPython.notebook.kernel.restart();'))\n",
    "    \n",
    "def save_and_export_notebook(name):\n",
    "    \n",
    "    assert IN_JUPYTER\n",
    "    \n",
    "    save_notebook()\n",
    "    NOTEBOOK_EXTEND_NAME='.ipynb'\n",
    "    if NOTEBOOK_EXTEND_NAME not in name:\n",
    "        name += NOTEBOOK_EXTEND_NAME\n",
    "    time.sleep(1)\n",
    "    \n",
    "    # support import complie\n",
    "    ex_command(f'!python notebook2script.py {name}')\n",
    "    ex_command(f'!python notebook2test_script.py {name}')\n",
    "    \n",
    "    save_notebook() # for exitting\n",
    "    "
   ]
  },
  {
   "cell_type": "markdown",
   "metadata": {
    "heading_collapsed": true
   },
   "source": [
    "## linux command"
   ]
  },
  {
   "cell_type": "code",
   "execution_count": 7,
   "metadata": {
    "ExecuteTime": {
     "end_time": "2020-03-22T11:47:33.761619Z",
     "start_time": "2020-03-22T11:47:33.722870Z"
    },
    "hidden": true
   },
   "outputs": [],
   "source": [
    "def gpu_usage():\n",
    "    ex_command('nvidia-smi')"
   ]
  },
  {
   "cell_type": "markdown",
   "metadata": {
    "heading_collapsed": true
   },
   "source": [
    "## asyncio"
   ]
  },
  {
   "cell_type": "code",
   "execution_count": 8,
   "metadata": {
    "ExecuteTime": {
     "end_time": "2020-03-22T11:47:33.796398Z",
     "start_time": "2020-03-22T11:47:33.773413Z"
    },
    "hidden": true
   },
   "outputs": [],
   "source": [
    "#export\n",
    "\n",
    "# https://docs.python.org/3/library/asyncio-subprocess.html\n",
    "import asyncio\n",
    "import sys\n",
    "import datetime\n",
    "import time\n",
    "\n",
    "# https://stackoverflow.com/questions/44633458/why-am-i-getting-notimplementederror-with-async-and-await-on-windows\n",
    "# asyncio.set_event_loop_policy(asyncio.WindowsProactorEventLoopPolicy()) \n",
    "\n",
    "async def async_run(run_args=[sys.executable, '-c', \"import time;print('ing',  flush=True);time.sleep(2);print('done')\",]\n",
    "                   , wait_child_sec=3):\n",
    "\n",
    "    # Create the subprocess; redirect the standard output\n",
    "    # into a pipe.\n",
    "    proc = await asyncio.create_subprocess_exec(\n",
    "        *run_args,\n",
    "        stdout=asyncio.subprocess.PIPE,\n",
    "        stderr=asyncio.subprocess.PIPE,\n",
    "    )\n",
    "\n",
    "    await asyncio.wait_for(proc.wait(), timeout=wait_child_sec)\n",
    "    \n",
    "    line=''\n",
    "    \n",
    "    data = await proc.stdout.read()\n",
    "    line += data.decode('ascii').rstrip()\n",
    "    \n",
    "    line += '\\n'\n",
    "    \n",
    "    data = await proc.stderr.read()\n",
    "    line += data.decode('ascii').rstrip()\n",
    "    \n",
    "    if line: print(line)\n",
    "    "
   ]
  },
  {
   "cell_type": "markdown",
   "metadata": {},
   "source": [
    "## output"
   ]
  },
  {
   "cell_type": "code",
   "execution_count": null,
   "metadata": {
    "ExecuteTime": {
     "start_time": "2020-03-22T11:47:33.601Z"
    }
   },
   "outputs": [
    {
     "data": {
      "application/javascript": [
       "IPython.notebook.save_checkpoint();"
      ],
      "text/plain": [
       "<IPython.core.display.Javascript object>"
      ]
     },
     "metadata": {},
     "output_type": "display_data"
    },
    {
     "name": "stdout",
     "output_type": "stream",
     "text": [
      "Converted common.ipynb to ..\\exp\\common.py\n",
      "Converted common.ipynb to ..\\test\\test_common.py\n"
     ]
    }
   ],
   "source": [
    "save_and_export_notebook('common')"
   ]
  },
  {
   "cell_type": "code",
   "execution_count": null,
   "metadata": {
    "ExecuteTime": {
     "start_time": "2020-03-22T11:47:33.607Z"
    }
   },
   "outputs": [],
   "source": [
    "from pathlib import Path"
   ]
  },
  {
   "cell_type": "code",
   "execution_count": null,
   "metadata": {
    "ExecuteTime": {
     "start_time": "2020-03-22T11:47:33.612Z"
    }
   },
   "outputs": [],
   "source": [
    "Path('a')/'..'/'b'"
   ]
  }
 ],
 "metadata": {
  "kernelspec": {
   "display_name": "py3torch-cpu",
   "language": "python",
   "name": "py3torch-cpu"
  },
  "language_info": {
   "codemirror_mode": {
    "name": "ipython",
    "version": 3
   },
   "file_extension": ".py",
   "mimetype": "text/x-python",
   "name": "python",
   "nbconvert_exporter": "python",
   "pygments_lexer": "ipython3",
   "version": "3.7.6"
  }
 },
 "nbformat": 4,
 "nbformat_minor": 2
}
