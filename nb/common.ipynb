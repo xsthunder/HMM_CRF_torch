{
 "cells": [
  {
   "cell_type": "code",
   "execution_count": 10,
   "metadata": {
    "ExecuteTime": {
     "end_time": "2020-03-06T11:26:20.272376Z",
     "start_time": "2020-03-06T11:26:20.256387Z"
    }
   },
   "outputs": [],
   "source": [
    "from datetime import datetime\n",
    "import sys\n",
    "def now():return mktime(datetime.now().timetuple())\n",
    "def now_s():\n",
    "    s = datetime.now().isoformat()\n",
    "    return s[:s.index('.')]\n",
    "now_s()\n",
    "\n",
    "def timer(slient_mode = False):\n",
    "    pf = print\n",
    "    def empty_func(*args):\n",
    "        pass\n",
    "    pf = empty_func if slient_mode else print\n",
    "    \n",
    "    def split_by_time(*args):\n",
    "        pf(\"-\"*60 , now_s(), *args)\n",
    "    \n",
    "    split_by_time()\n",
    "    t1 = now()\n",
    "    yield t1, 0\n",
    "    \n",
    "    while True:\n",
    "        t2 = now()\n",
    "        split_by_time(\"time costs %2d secs\"%(t2 - t1))\n",
    "        yield t2, t2 - t1"
   ]
  },
  {
   "cell_type": "markdown",
   "metadata": {
    "heading_collapsed": true
   },
   "source": [
    "## notebook"
   ]
  },
  {
   "cell_type": "code",
   "execution_count": 13,
   "metadata": {
    "ExecuteTime": {
     "end_time": "2020-03-06T11:26:26.483391Z",
     "start_time": "2020-03-06T11:26:26.477393Z"
    },
    "hidden": true
   },
   "outputs": [],
   "source": [
    "#export\n",
    "#https://stackoverflow.com/questions/15411967/how-can-i-check-if-code-is-executed-in-the-ipython-notebook\n",
    "def isnotebook():\n",
    "    try:\n",
    "        shell = get_ipython().__class__.__name__\n",
    "        if shell == 'ZMQInteractiveShell':\n",
    "            return True   # Jupyter notebook or qtconsole\n",
    "        elif shell == 'TerminalInteractiveShell':\n",
    "            return False  # Terminal running IPython\n",
    "        else:\n",
    "            return False  # Other type (?)\n",
    "    except NameError: \n",
    "        return False      # Probably standard Python interpreter\n",
    "IN_JUPYTER = isnotebook()"
   ]
  },
  {
   "cell_type": "code",
   "execution_count": 14,
   "metadata": {
    "ExecuteTime": {
     "end_time": "2020-03-06T11:26:27.772497Z",
     "start_time": "2020-03-06T11:26:27.746515Z"
    },
    "hidden": true
   },
   "outputs": [
    {
     "name": "stdout",
     "output_type": "stream",
     "text": [
      "1\n"
     ]
    },
    {
     "data": {
      "text/plain": [
       "<ExecutionResult object at 205480e0788, execution_count=None error_before_exec=None error_in_exec=None info=<ExecutionInfo object at 20548000b88, raw_cell=\"! echo 1\" store_history=False silent=False shell_futures=True> result=None>"
      ]
     },
     "execution_count": 14,
     "metadata": {},
     "output_type": "execute_result"
    }
   ],
   "source": [
    "ip = get_ipython()\n",
    "ip.run_cell(\"! echo 1\")"
   ]
  },
  {
   "cell_type": "code",
   "execution_count": 15,
   "metadata": {
    "ExecuteTime": {
     "end_time": "2020-03-06T11:26:28.303285Z",
     "start_time": "2020-03-06T11:26:28.295290Z"
    },
    "hidden": true
   },
   "outputs": [],
   "source": [
    "#export\n",
    "\n",
    "# use those only in jupyter\n",
    "from IPython.display import display, Javascript\n",
    "import time\n",
    "\n",
    "def save_notebook(): display(Javascript('IPython.notebook.save_checkpoint();'))\n",
    "\n",
    "def restart_kernel():display(Javascript('IPython.notebook.kernel.restart();'))\n",
    "    \n",
    "def save_and_export_notebook(name):\n",
    "    \n",
    "    assert IN_JUPYTER\n",
    "    \n",
    "    save_notebook()\n",
    "    NOTEBOOK_EXTEND_NAME='.ipynb'\n",
    "    if NOTEBOOK_EXTEND_NAME not in name:\n",
    "        name += NOTEBOOK_EXTEND_NAME\n",
    "    time.sleep(1)\n",
    "    \n",
    "    # support import complie\n",
    "    ip = get_ipython()\n",
    "    ip.run_cell(f'!python notebook2script.py {name}')\n",
    "    ip.run_cell(f'!python notebook2test_script.py {name}')\n",
    "    \n",
    "    save_notebook() # for exitting\n",
    "    "
   ]
  },
  {
   "cell_type": "markdown",
   "metadata": {
    "heading_collapsed": true
   },
   "source": [
    "## asyncio"
   ]
  },
  {
   "cell_type": "code",
   "execution_count": 16,
   "metadata": {
    "ExecuteTime": {
     "end_time": "2020-03-06T11:26:30.554569Z",
     "start_time": "2020-03-06T11:26:30.544573Z"
    },
    "hidden": true
   },
   "outputs": [],
   "source": [
    "#export\n",
    "\n",
    "# https://docs.python.org/3/library/asyncio-subprocess.html\n",
    "import asyncio\n",
    "import sys\n",
    "import datetime\n",
    "import time\n",
    "\n",
    "# https://stackoverflow.com/questions/44633458/why-am-i-getting-notimplementederror-with-async-and-await-on-windows\n",
    "# asyncio.set_event_loop_policy(asyncio.WindowsProactorEventLoopPolicy()) \n",
    "\n",
    "async def async_run(run_args=[sys.executable, '-c', \"import time;print('ing',  flush=True);time.sleep(2);print('done')\",]\n",
    "                   , wait_child_sec=3):\n",
    "\n",
    "    # Create the subprocess; redirect the standard output\n",
    "    # into a pipe.\n",
    "    proc = await asyncio.create_subprocess_exec(\n",
    "        *run_args,\n",
    "        stdout=asyncio.subprocess.PIPE,\n",
    "        stderr=asyncio.subprocess.PIPE,\n",
    "    )\n",
    "\n",
    "    await asyncio.wait_for(proc.wait(), timeout=wait_child_sec)\n",
    "    \n",
    "    line=''\n",
    "    \n",
    "    data = await proc.stdout.read()\n",
    "    line += data.decode('ascii').rstrip()\n",
    "    \n",
    "    line += '\\n'\n",
    "    \n",
    "    data = await proc.stderr.read()\n",
    "    line += data.decode('ascii').rstrip()\n",
    "    \n",
    "    if line: print(line)\n",
    "    "
   ]
  },
  {
   "cell_type": "markdown",
   "metadata": {
    "heading_collapsed": true
   },
   "source": [
    "## output"
   ]
  },
  {
   "cell_type": "code",
   "execution_count": 17,
   "metadata": {
    "ExecuteTime": {
     "end_time": "2020-03-06T11:26:33.026651Z",
     "start_time": "2020-03-06T11:26:31.592656Z"
    },
    "hidden": true
   },
   "outputs": [
    {
     "data": {
      "application/javascript": [
       "IPython.notebook.save_checkpoint();"
      ],
      "text/plain": [
       "<IPython.core.display.Javascript object>"
      ]
     },
     "metadata": {},
     "output_type": "display_data"
    },
    {
     "name": "stdout",
     "output_type": "stream",
     "text": [
      "Converted common.ipynb to ..\\exp\\common.py\n",
      "Converted common.ipynb to ..\\test\\test_common.py\n"
     ]
    },
    {
     "data": {
      "application/javascript": [
       "IPython.notebook.save_checkpoint();"
      ],
      "text/plain": [
       "<IPython.core.display.Javascript object>"
      ]
     },
     "metadata": {},
     "output_type": "display_data"
    }
   ],
   "source": [
    "save_and_export_notebook('common')"
   ]
  },
  {
   "cell_type": "code",
   "execution_count": 18,
   "metadata": {
    "ExecuteTime": {
     "end_time": "2020-03-06T11:26:33.034644Z",
     "start_time": "2020-03-06T11:26:33.029647Z"
    },
    "hidden": true
   },
   "outputs": [],
   "source": [
    "from pathlib import Path"
   ]
  },
  {
   "cell_type": "code",
   "execution_count": 28,
   "metadata": {
    "ExecuteTime": {
     "end_time": "2020-03-06T07:50:21.651342Z",
     "start_time": "2020-03-06T07:50:21.644349Z"
    },
    "hidden": true
   },
   "outputs": [
    {
     "data": {
      "text/plain": [
       "WindowsPath('a/../b')"
      ]
     },
     "execution_count": 28,
     "metadata": {},
     "output_type": "execute_result"
    }
   ],
   "source": [
    "Path('a')/'..'/'b'"
   ]
  }
 ],
 "metadata": {
  "kernelspec": {
   "display_name": "py3torch-cpu",
   "language": "python",
   "name": "py3torch-cpu"
  },
  "language_info": {
   "codemirror_mode": {
    "name": "ipython",
    "version": 3
   },
   "file_extension": ".py",
   "mimetype": "text/x-python",
   "name": "python",
   "nbconvert_exporter": "python",
   "pygments_lexer": "ipython3",
   "version": "3.7.6"
  }
 },
 "nbformat": 4,
 "nbformat_minor": 2
}
