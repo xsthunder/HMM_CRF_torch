{
 "cells": [
  {
   "cell_type": "markdown",
   "metadata": {},
   "source": [
    " [【中文分词系列】 3. 字标注法与HMM模型 - 科学空间|Scientific Spaces](https://kexue.fm/archives/3922#Python%E5%AE%9E%E7%8E%B0)\n"
   ]
  },
  {
   "cell_type": "code",
   "execution_count": 1,
   "metadata": {
    "ExecuteTime": {
     "end_time": "2020-03-07T08:48:30.329233Z",
     "start_time": "2020-03-07T08:48:30.319246Z"
    }
   },
   "outputs": [],
   "source": [
    "#export\n",
    "import sys\n",
    "if __name__ == '__main__': sys.path.append('..')\n",
    "import exp.common as common"
   ]
  },
  {
   "cell_type": "code",
   "execution_count": 3,
   "metadata": {
    "ExecuteTime": {
     "end_time": "2020-03-07T08:48:31.325237Z",
     "start_time": "2020-03-07T08:48:31.311245Z"
    }
   },
   "outputs": [
    {
     "data": {
      "text/plain": [
       "True"
      ]
     },
     "execution_count": 3,
     "metadata": {},
     "output_type": "execute_result"
    }
   ],
   "source": [
    "common.IN_JUPYTER"
   ]
  },
  {
   "cell_type": "code",
   "execution_count": 4,
   "metadata": {
    "ExecuteTime": {
     "end_time": "2020-03-07T08:48:33.203667Z",
     "start_time": "2020-03-07T08:48:32.086856Z"
    }
   },
   "outputs": [],
   "source": [
    "#test_export\n",
    "\n",
    "# 准备发射概率\n",
    "# https://github.com/fxsjy/jieba/blob/master/jieba/dict.txt\n",
    "\n",
    "from collections import Counter\n",
    "from functools import reduce\n",
    "\n",
    "BMES = 'BMES'\n",
    "B,M,E,S = list(BMES)\n",
    "\n",
    "def each_line(dictionary, line):\n",
    "    \n",
    "    # 词语、词频（可省略）、词性（可省略），用空格隔开，顺序不可颠倒\n",
    "    line = line.split(' ')\n",
    "    word = line[0]\n",
    "    \n",
    "    freq = line[1] if len(line) > 1 else '1'\n",
    "    freq = int(freq) if freq.isdigit() else 1\n",
    "    \n",
    "    assert word, \"word cant be empty str\"\n",
    "    \n",
    "    if len(word) == 1:\n",
    "        dictionary[S][word] += freq\n",
    "    else:\n",
    "        dictionary[B][word[0]] += freq\n",
    "        dictionary[E][word[-1]] += freq\n",
    "        for w in word[1:-1]: dictionary[M][w] += freq\n",
    "    \n",
    "    return dictionary\n",
    "\n",
    "with open('../data/HMM/dict.txt', 'r', encoding='UTF-8') as f:\n",
    "    \n",
    "    dictionary = reduce(each_line, f.readlines(), dict(map(lambda t:(t, Counter()), BMES)))\n",
    "\n",
    "dictionary_sum = dict(map(lambda tp:(tp[0], sum(tp[1].values())), dictionary.items()))"
   ]
  },
  {
   "cell_type": "code",
   "execution_count": 5,
   "metadata": {
    "ExecuteTime": {
     "end_time": "2020-03-07T08:48:33.255063Z",
     "start_time": "2020-03-07T08:48:33.206671Z"
    }
   },
   "outputs": [],
   "source": [
    "#test_export\n",
    "import sure"
   ]
  },
  {
   "cell_type": "code",
   "execution_count": 33,
   "metadata": {
    "ExecuteTime": {
     "end_time": "2020-03-07T09:20:10.577059Z",
     "start_time": "2020-03-07T09:20:10.516096Z"
    }
   },
   "outputs": [
    {
     "name": "stdout",
     "output_type": "stream",
     "text": [
      "B->E:-0.51082562376599\t 0.6000000000000004\n",
      "B->M:-0.916290731874155\t 0.4\n",
      "E->B:-0.5897149736854513\t 0.5544853051164425\n",
      "E->S:-0.8085250474669937\t 0.44551469488355755\n",
      "M->E:-0.33344856811948514\t 0.7164487459986911\n",
      "M->M:-1.2603623820268226\t 0.2835512540013088\n",
      "S->B:-0.7211965654669841\t 0.48617017333894563\n",
      "S->S:-0.6658631448798212\t 0.5138298266610544\n"
     ]
    }
   ],
   "source": [
    "#test_export\n",
    "import math\n",
    "import numpy as np\n",
    "from scipy.special import logsumexp\n",
    "\n",
    "# 准备转移概率\n",
    "# https://raw.githubusercontent.com/fxsjy/jieba/master/jieba/finalseg/prob_trans.py\n",
    "\n",
    "# 对数概率\n",
    "from data.HMM.prob_trans import P as trans\n",
    "from data.HMM.prob_start import P as start\n",
    "for k,v in trans.items():\n",
    "    float(logsumexp(list(v.values()))).should.eql(.0, 1e-8) # log(1) = 0\n",
    "    \n",
    "    for k1, v1 in v.items():\n",
    "        print(f'{k}->{k1}:{v1}\\t {math.exp(v1)}')\n",
    "        "
   ]
  },
  {
   "cell_type": "code",
   "execution_count": 32,
   "metadata": {
    "ExecuteTime": {
     "end_time": "2020-03-07T09:19:37.587260Z",
     "start_time": "2020-03-07T09:19:37.562275Z"
    }
   },
   "outputs": [],
   "source": [
    "#export\n",
    "import operator\n",
    "def get_max_tuple(d):\n",
    "    assert isinstance(d, dict)\n",
    "    return max(d.items(), key=operator.itemgetter(1))\n",
    "    \n",
    "\n",
    "def viterbi(nodes,trans_p, initial_state = None, return_max = True, start_p = None):\n",
    "    \"\"\"\n",
    "    nodes: array, [{\"<TAG>\": <float>}]\n",
    "    trans_p: dict, {\"<TAG_A>\": {\"TAG_B\": <float>}}, TAG_A -> TAG-B\n",
    "    return_max=True: bool, set to False if your want to avoid ill endding tag and find your own.\n",
    "    initial_state=None: None or list to avoid impossible starting tags\n",
    "    start_p: P(o1), may be nessary\n",
    "    all float number in log form\n",
    "    \"\"\"\n",
    "    if initial_state is None:\n",
    "        initial_state = nodes[0]\n",
    "        nodes = nodes[1:]\n",
    "        \n",
    "    if start_p:\n",
    "        for k in initial_state:\n",
    "            if k in start_p:\n",
    "                initial_state[k] *= start_p[k]\n",
    "        \n",
    "    path_score = initial_state\n",
    "    \n",
    "    \n",
    "    for node in nodes:\n",
    "        new_path_score = {}\n",
    "        for t,v in node.items():\n",
    "            t_new_path_score = {}\n",
    "            \n",
    "            for path, score in path_score.items():\n",
    "                \n",
    "                last_t = path[-1]\n",
    "                new_path = path + t\n",
    "                \n",
    "                tran = trans_p[last_t].get(t, None)\n",
    "                if tran is None:\n",
    "                # 不合法的转移\n",
    "                    pass\n",
    "                else :\n",
    "                    t_new_path_score[new_path] = score + tran + v\n",
    "                \n",
    "            new_path_score.__setitem__(*get_max_tuple(t_new_path_score))\n",
    "        path_score = new_path_score\n",
    "    return get_max_tuple(path_score) if return_max else path_score"
   ]
  },
  {
   "cell_type": "code",
   "execution_count": 29,
   "metadata": {
    "ExecuteTime": {
     "end_time": "2020-03-07T08:52:11.255463Z",
     "start_time": "2020-03-07T08:52:11.249468Z"
    }
   },
   "outputs": [],
   "source": [
    "#export\n",
    "def decode_seq_tags(seq, tags, splitter_tags=['S', 'E'], word_spliter='|'):\n",
    "    ret = ''\n",
    "    splitter_tags = set(splitter_tags)\n",
    "    for c, t in zip(seq,tags):\n",
    "        \n",
    "        if t in splitter_tags:\n",
    "            ret += c\n",
    "            ret += word_spliter\n",
    "        else :\n",
    "            ret += c\n",
    "    \n",
    "    if tags[-1] in splitter_tags:\n",
    "        return ret[:-1]\n",
    "            \n",
    "    return ret\n",
    "        "
   ]
  },
  {
   "cell_type": "code",
   "execution_count": 14,
   "metadata": {
    "ExecuteTime": {
     "end_time": "2020-03-07T08:48:58.977960Z",
     "start_time": "2020-03-07T08:48:58.970966Z"
    }
   },
   "outputs": [
    {
     "data": {
      "text/plain": [
       "True"
      ]
     },
     "execution_count": 14,
     "metadata": {},
     "output_type": "execute_result"
    }
   ],
   "source": [
    "#test_export\n",
    "decode_seq_tags('abcd', \"BMES\").should.equal(\"abc|d\")"
   ]
  },
  {
   "cell_type": "code",
   "execution_count": 15,
   "metadata": {
    "ExecuteTime": {
     "end_time": "2020-03-07T08:49:01.020392Z",
     "start_time": "2020-03-07T08:49:01.011397Z"
    }
   },
   "outputs": [],
   "source": [
    "#export\n",
    "\n",
    "from math import log\n",
    "def get_cal_nodes_by_dict(dictionary):\n",
    "    \"\"\"\n",
    "    dictionary: {<TAG>:{<char>:freq}}\n",
    "    \"\"\"\n",
    "    \n",
    "    dictionary_sum = dict(map(lambda tp:(tp[0], sum(tp[1].values())), dictionary.items()))\n",
    "    def cal_nodes(sentence):\n",
    "        \"\"\"\n",
    "        sentence: str, \n",
    "        # 加1平滑\n",
    "        return: [c在给定<TAG>下对数概率{<TAG>:float} for c in sentence]\n",
    "        \"\"\"\n",
    "        nodes = []\n",
    "        for w in s:\n",
    "            d = {}\n",
    "            for (t, v) in dictionary.items():\n",
    "                # 加1平滑\n",
    "                d[t] = log(v.get(w, 0)+1) - log(dictionary_sum[t])\n",
    "            nodes.append(d)\n",
    "        return nodes\n",
    "    return cal_nodes\n",
    "#         print(t, v[w], v[w]/dictionary_sum[t], log(v[w]) - log(dictionary_sum[t]))\n",
    "\n"
   ]
  },
  {
   "cell_type": "code",
   "execution_count": 16,
   "metadata": {
    "ExecuteTime": {
     "end_time": "2020-03-07T08:49:01.610318Z",
     "start_time": "2020-03-07T08:49:01.604321Z"
    }
   },
   "outputs": [],
   "source": [
    "#test_export\n",
    "\n",
    "cal_nodes = get_cal_nodes_by_dict(dictionary)\n",
    "\n",
    "def tester(s):\n",
    "    nodes = cal_nodes(s)\n",
    "    tags, _ = viterbi(nodes, trans)\n",
    "    return decode_seq_tags(s, tags, word_spliter=' ')"
   ]
  },
  {
   "cell_type": "code",
   "execution_count": 36,
   "metadata": {
    "ExecuteTime": {
     "end_time": "2020-03-07T09:22:07.387218Z",
     "start_time": "2020-03-07T09:22:07.380221Z"
    }
   },
   "outputs": [
    {
     "data": {
      "text/plain": [
       "True"
      ]
     },
     "execution_count": 36,
     "metadata": {},
     "output_type": "execute_result"
    }
   ],
   "source": [
    "#test_export\n",
    "\n",
    "s = \"我是中国人\"\n",
    "nodes = cal_nodes(s)\n",
    "tags, _ = viterbi(nodes, trans, start_p=start)\n",
    "decode_seq_tags(s, tags).should.eql('我|是|中国|人')"
   ]
  },
  {
   "cell_type": "code",
   "execution_count": 23,
   "metadata": {
    "ExecuteTime": {
     "end_time": "2020-03-07T08:49:28.453507Z",
     "start_time": "2020-03-07T08:49:28.447512Z"
    }
   },
   "outputs": [
    {
     "data": {
      "text/plain": [
       "True"
      ]
     },
     "execution_count": 23,
     "metadata": {},
     "output_type": "execute_result"
    }
   ],
   "source": [
    "#test_export\n",
    "\n",
    "s = \"我是中国人\"\n",
    "tester(s).should.eql(\"我 是 中国人\")"
   ]
  },
  {
   "cell_type": "code",
   "execution_count": 24,
   "metadata": {
    "ExecuteTime": {
     "end_time": "2020-03-07T08:49:47.847997Z",
     "start_time": "2020-03-07T08:49:47.841000Z"
    }
   },
   "outputs": [
    {
     "data": {
      "text/plain": [
       "True"
      ]
     },
     "execution_count": 24,
     "metadata": {},
     "output_type": "execute_result"
    }
   ],
   "source": [
    "#test_export\n",
    "\n",
    "s = \"李想是一个好孩子\"\n",
    "tester(s).should.eql(\"李想 是 一个 好 孩子\")"
   ]
  },
  {
   "cell_type": "code",
   "execution_count": 25,
   "metadata": {
    "ExecuteTime": {
     "end_time": "2020-03-07T08:50:05.169574Z",
     "start_time": "2020-03-07T08:50:05.161578Z"
    }
   },
   "outputs": [
    {
     "data": {
      "text/plain": [
       "True"
      ]
     },
     "execution_count": 25,
     "metadata": {},
     "output_type": "execute_result"
    }
   ],
   "source": [
    "#test_export\n",
    "\n",
    "s = \"小明硕士毕业于中国科学院计算所\"\n",
    "tester(s).should.eql('小明 硕士 毕业 于 中国 科学院 计算 所')"
   ]
  },
  {
   "cell_type": "code",
   "execution_count": 26,
   "metadata": {
    "ExecuteTime": {
     "end_time": "2020-03-07T08:50:09.811163Z",
     "start_time": "2020-03-07T08:50:09.790180Z"
    }
   },
   "outputs": [
    {
     "data": {
      "text/plain": [
       "'中国 是 世界 上 历史 最 悠久 的 国家 之 一，有 着 光辉 灿烂 的 文化 和 光荣 的 革命 传统 ，世界 遗产 数量 全球领 先。19 49年 新 中国 成立 后 ， 进入 社会 主义 革命 和 建设 时期 ， 1956年 实现 向 社会 主义 过 渡，此 后 社会 主义 建设 在 探索 中曲折 发展 。“文化 大革命 ” 结束 后 实行 改革 开放， 沿着 中国 特色 社会 主义 道 路，集 中力量 进行 社会 主义 现代化 建设 。 经过 长期 努力 ， 中国 特色 社会 主义 进入 了 新 时代。'"
      ]
     },
     "execution_count": 26,
     "metadata": {},
     "output_type": "execute_result"
    }
   ],
   "source": [
    "#test_export\n",
    "\n",
    "s = \"\"\"\n",
    "中国是世界上历史最悠久的国家之一，有着光辉灿烂的文化和光荣的革命传统 [3]  ，世界遗产数量全球领先 [10]  。1949年新中国成立后，进入社会主义革命和建设时期，1956年实现向社会主义过渡，此后社会主义建设在探索中曲折发展 [11]  。“文化大革命”结束后实行改革开放，沿着中国特色社会主义道路，集中力量进行社会主义现代化建设 [3]  。经过长期努力，中国特色社会主义进入了新时代。 [12]  \n",
    "\"\"\"\n",
    "s = s.strip()\n",
    "import re\n",
    "s = re.sub(r\"\\s+\", '', s, flags = re.MULTILINE)\n",
    "s = re.sub(r\"\\[\\d+\\]\", '', s, flags = re.MULTILINE)\n",
    "tester(s)"
   ]
  },
  {
   "cell_type": "code",
   "execution_count": null,
   "metadata": {},
   "outputs": [],
   "source": [
    "\n"
   ]
  },
  {
   "cell_type": "code",
   "execution_count": null,
   "metadata": {
    "ExecuteTime": {
     "start_time": "2020-03-07T09:23:19.424Z"
    }
   },
   "outputs": [
    {
     "data": {
      "application/javascript": [
       "IPython.notebook.save_checkpoint();"
      ],
      "text/plain": [
       "<IPython.core.display.Javascript object>"
      ]
     },
     "metadata": {},
     "output_type": "display_data"
    },
    {
     "name": "stdout",
     "output_type": "stream",
     "text": [
      "Converted HMM.ipynb to ..\\exp\\HMM.py\n",
      "Converted HMM.ipynb to ..\\test\\test_HMM.py\n"
     ]
    }
   ],
   "source": [
    "common.save_and_export_notebook('HMM')"
   ]
  },
  {
   "cell_type": "code",
   "execution_count": 70,
   "metadata": {
    "ExecuteTime": {
     "end_time": "2020-03-07T05:10:24.350510Z",
     "start_time": "2020-03-07T05:10:24.342514Z"
    }
   },
   "outputs": [
    {
     "data": {
      "text/plain": [
       "True"
      ]
     },
     "execution_count": 70,
     "metadata": {},
     "output_type": "execute_result"
    }
   ],
   "source": [
    "not None"
   ]
  }
 ],
 "metadata": {
  "kernelspec": {
   "display_name": "py3torch-cpu",
   "language": "python",
   "name": "py3torch-cpu"
  },
  "language_info": {
   "codemirror_mode": {
    "name": "ipython",
    "version": 3
   },
   "file_extension": ".py",
   "mimetype": "text/x-python",
   "name": "python",
   "nbconvert_exporter": "python",
   "pygments_lexer": "ipython3",
   "version": "3.7.6"
  }
 },
 "nbformat": 4,
 "nbformat_minor": 2
}
