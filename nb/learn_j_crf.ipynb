{
 "cells": [
  {
   "cell_type": "markdown",
   "metadata": {},
   "source": [
    "# 目的\n",
    "\n",
    "发现j_crf在手动设定transition参数后\n",
    "\n",
    "join_likehood 函数对于相同的输入，给出的不同输出\n",
    "\n",
    "本nb，为了学习join_likehood \n",
    "\n",
    "## 结果\n",
    "\n",
    "通过reset_parameter()\n",
    "\n",
    "发现是含有额外参数 start_trainsition 和 end_trainsition\n",
    "\n",
    "\n",
    "## 做法\n",
    "\n",
    "初始化的适合用include_trainsition=False 关闭额外的参数"
   ]
  },
  {
   "cell_type": "code",
   "execution_count": 1,
   "metadata": {
    "ExecuteTime": {
     "end_time": "2020-03-21T08:51:08.614124Z",
     "start_time": "2020-03-21T08:51:08.603109Z"
    }
   },
   "outputs": [],
   "source": [
    "#export\n",
    "import sys\n",
    "if __name__ == '__main__': sys.path.append('..')\n",
    "import exp.common as common\n",
    "from pprint import pprint\n",
    "def pj(*args, **kargs):\n",
    "    if common.IN_JUPYTER:\n",
    "        pprint(*args, **kargs)"
   ]
  },
  {
   "cell_type": "code",
   "execution_count": 2,
   "metadata": {
    "ExecuteTime": {
     "end_time": "2020-03-21T08:51:08.658333Z",
     "start_time": "2020-03-21T08:51:08.617101Z"
    }
   },
   "outputs": [],
   "source": [
    "#test_export\n",
    "import sure"
   ]
  },
  {
   "cell_type": "code",
   "execution_count": 16,
   "metadata": {
    "ExecuteTime": {
     "end_time": "2020-03-21T08:54:34.513241Z",
     "start_time": "2020-03-21T08:54:34.508248Z"
    }
   },
   "outputs": [],
   "source": [
    "from exp.min_train_for_crf import inputs, LABELS, MASK, label_dic, constraints, num_label\n",
    "import torch\n",
    "from torch import nn\n",
    "from lib.ConditionalRandomField import ConditionalRandomField as J_crf"
   ]
  },
  {
   "cell_type": "code",
   "execution_count": 90,
   "metadata": {
    "ExecuteTime": {
     "end_time": "2020-03-21T09:07:45.027195Z",
     "start_time": "2020-03-21T09:07:45.021201Z"
    }
   },
   "outputs": [],
   "source": [
    "j_crf = J_crf(num_label, constraints, )"
   ]
  },
  {
   "cell_type": "code",
   "execution_count": 91,
   "metadata": {
    "ExecuteTime": {
     "end_time": "2020-03-21T09:07:45.352911Z",
     "start_time": "2020-03-21T09:07:45.338900Z"
    }
   },
   "outputs": [
    {
     "data": {
      "text/plain": [
       "tensor([1.4508], grad_fn=<AddBackward0>)"
      ]
     },
     "execution_count": 91,
     "metadata": {},
     "output_type": "execute_result"
    }
   ],
   "source": [
    "self = j_crf\n",
    "logits = inputs\n",
    "mask = MASK\n",
    "tags = LABELS\n",
    "j_crf._joint_likelihood(logits, tags, mask)"
   ]
  },
  {
   "cell_type": "code",
   "execution_count": 92,
   "metadata": {
    "ExecuteTime": {
     "end_time": "2020-03-21T09:07:45.865584Z",
     "start_time": "2020-03-21T09:07:45.855587Z"
    }
   },
   "outputs": [
    {
     "data": {
      "text/plain": [
       "tensor([2.7467], grad_fn=<AddBackward0>)"
      ]
     },
     "execution_count": 92,
     "metadata": {},
     "output_type": "execute_result"
    }
   ],
   "source": [
    "j_crf.transitions = nn.Parameter(torch.ones_like(j_crf.transitions))\n",
    "j_crf._joint_likelihood(logits, tags, mask)"
   ]
  },
  {
   "cell_type": "code",
   "execution_count": 49,
   "metadata": {
    "ExecuteTime": {
     "end_time": "2020-03-21T09:04:59.037274Z",
     "start_time": "2020-03-21T09:04:59.026280Z"
    }
   },
   "outputs": [
    {
     "data": {
      "text/plain": [
       "(tensor([[[0.1000, 0.2000, 0.1000],\n",
       "          [0.1000, 0.2000, 0.3000]]]),\n",
       " tensor([[True, True]]),\n",
       " tensor([[1, 1]]),\n",
       " Parameter containing:\n",
       " tensor([[1., 1., 1.],\n",
       "         [1., 1., 1.],\n",
       "         [1., 1., 1.]], requires_grad=True))"
      ]
     },
     "execution_count": 49,
     "metadata": {},
     "output_type": "execute_result"
    }
   ],
   "source": [
    "logits, mask, tags, j_crf.transitions"
   ]
  },
  {
   "cell_type": "code",
   "execution_count": 31,
   "metadata": {
    "ExecuteTime": {
     "end_time": "2020-03-21T08:57:57.573324Z",
     "start_time": "2020-03-21T08:57:57.555319Z"
    }
   },
   "outputs": [],
   "source": [
    "# _joint_likelihood\n",
    "# 即path score\n",
    "\n",
    "batch_size, sequence_length, _ = logits.shape\n",
    "\n",
    "# Transpose batch size and sequence dimensions:\n",
    "logits = logits.transpose(0, 1)\n",
    "mask = mask.transpose(0, 1).float()\n",
    "tags = tags.transpose(0, 1)\n",
    "\n",
    "# Start with the transition scores from start_tag to the first tag in each input\n",
    "if self.include_start_end_transitions:\n",
    "    score = self.start_transitions.index_select(0, tags[0])\n",
    "else:\n",
    "    score = 0.0\n",
    "\n",
    "# Add up the scores for the observed transitions and all the inputs but the last\n",
    "for i in range(sequence_length - 1):\n",
    "    # Each is shape (batch_size,)\n",
    "    current_tag, next_tag = tags[i], tags[i + 1]\n",
    "\n",
    "    # The scores for transitioning from current_tag to next_tag\n",
    "    transition_score = self.transitions[current_tag, next_tag]\n",
    "\n",
    "    # The score for using current_tag\n",
    "    emit_score = logits[i].gather(1, current_tag.view(batch_size, 1)).squeeze()\n",
    "\n",
    "    # Include t \n",
    "    score = score + transition_score * mask[i + 1] + emit_score * mask[i]\n",
    "\n",
    "# Transition from last state to \"stop\" state. To start with, we need to find the last tag\n",
    "# for each instance.\n",
    "last_tag_index = mask.sum(0).long() - 1\n",
    "last_tags = tags.gather(0, last_tag_index.view(1, batch_size)).squeeze(0)\n",
    "\n",
    "# Compute score of transitioning to `stop_tag` from each \"last tag\".\n",
    "if self.include_start_end_transitions:\n",
    "    last_transition_score = self.end_transitions.index_select(0, last_tags)\n",
    "else:\n",
    "    last_transition_score = 0.0\n",
    "\n",
    "# Add the last input if it's not masked.\n",
    "last_inputs = logits[-1]  # (batch_size, num_tags)\n",
    "last_input_score = last_inputs.gather(1, last_tags.view(-1, 1)).squeeze()  # (batch_size)\n",
    "# last_input_score = last_input_score.squeeze()  # (batch_size,)\n",
    "\n",
    "score = score + last_transition_score + last_input_score * mask[-1]"
   ]
  },
  {
   "cell_type": "code",
   "execution_count": 32,
   "metadata": {
    "ExecuteTime": {
     "end_time": "2020-03-21T08:58:06.179747Z",
     "start_time": "2020-03-21T08:58:06.171733Z"
    }
   },
   "outputs": [
    {
     "data": {
      "text/plain": [
       "tensor([0.5056], grad_fn=<AddBackward0>)"
      ]
     },
     "execution_count": 32,
     "metadata": {},
     "output_type": "execute_result"
    }
   ],
   "source": [
    "score"
   ]
  }
 ],
 "metadata": {
  "kernelspec": {
   "display_name": "py3torch-cpu",
   "language": "python",
   "name": "py3torch-cpu"
  },
  "language_info": {
   "codemirror_mode": {
    "name": "ipython",
    "version": 3
   },
   "file_extension": ".py",
   "mimetype": "text/x-python",
   "name": "python",
   "nbconvert_exporter": "python",
   "pygments_lexer": "ipython3",
   "version": "3.7.6"
  }
 },
 "nbformat": 4,
 "nbformat_minor": 2
}
