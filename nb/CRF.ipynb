{
 "cells": [
  {
   "cell_type": "markdown",
   "metadata": {},
   "source": [
    "# CRF\n",
    "\n",
    "模型参考https://github.com/bojone/crf/\n",
    "\n",
    "CRF实现参考https://github.com/bojone/crf/blob/master/crf_keras.py#L54"
   ]
  },
  {
   "cell_type": "markdown",
   "metadata": {
    "heading_collapsed": true
   },
   "source": [
    "#### util"
   ]
  },
  {
   "cell_type": "code",
   "execution_count": 2,
   "metadata": {
    "ExecuteTime": {
     "end_time": "2020-03-23T11:33:08.703625Z",
     "start_time": "2020-03-23T11:33:08.662645Z"
    },
    "hidden": true
   },
   "outputs": [],
   "source": [
    "#export\n",
    "import sys\n",
    "if __name__ == '__main__': sys.path.append('..')\n",
    "import exp.common as common\n",
    "from exp.common import tqdm"
   ]
  },
  {
   "cell_type": "code",
   "execution_count": 2,
   "metadata": {
    "ExecuteTime": {
     "end_time": "2020-03-23T11:22:50.242971Z",
     "start_time": "2020-03-23T11:22:50.237057Z"
    },
    "hidden": true
   },
   "outputs": [],
   "source": [
    "import gc\n",
    "def print_gc(file=sys.stdout):\n",
    "    for obj in gc.get_objects():\n",
    "        try:\n",
    "            if torch.is_tensor(obj) or (hasattr(obj, 'data') and torch.is_tensor(obj.data)):\n",
    "                print(type(obj), obj.size(), file=file)\n",
    "        except: pass"
   ]
  },
  {
   "cell_type": "code",
   "execution_count": 3,
   "metadata": {
    "ExecuteTime": {
     "end_time": "2020-03-23T11:22:50.248846Z",
     "start_time": "2020-03-23T11:22:50.245344Z"
    },
    "hidden": true
   },
   "outputs": [],
   "source": [
    "from pprint import pprint\n",
    "def pj(*args, **kargs):\n",
    "    if common.IN_JUPYTER:\n",
    "        pprint(*args, **kargs)"
   ]
  },
  {
   "cell_type": "code",
   "execution_count": 4,
   "metadata": {
    "ExecuteTime": {
     "end_time": "2020-03-23T11:22:50.343164Z",
     "start_time": "2020-03-23T11:22:50.250752Z"
    },
    "hidden": true
   },
   "outputs": [],
   "source": [
    "#export\n",
    "import operator\n",
    "import numpy as np"
   ]
  },
  {
   "cell_type": "code",
   "execution_count": 5,
   "metadata": {
    "ExecuteTime": {
     "end_time": "2020-03-23T11:22:50.348347Z",
     "start_time": "2020-03-23T11:22:50.345328Z"
    },
    "hidden": true
   },
   "outputs": [],
   "source": [
    "#test_export\n",
    "def is_cuda():\n",
    "    return torch.cuda.is_available()"
   ]
  },
  {
   "cell_type": "code",
   "execution_count": 6,
   "metadata": {
    "ExecuteTime": {
     "end_time": "2020-03-23T11:22:50.586296Z",
     "start_time": "2020-03-23T11:22:50.351222Z"
    },
    "hidden": true
   },
   "outputs": [],
   "source": [
    "import matplotlib.pyplot as plt\n",
    "def pxy(x, y, name='idk', plt=plt, ):\n",
    "    name = str(name)\n",
    "    fig, = plt.plot(x,y, )\n",
    "    fig.set_label(name)\n",
    "    plt.legend()"
   ]
  },
  {
   "cell_type": "markdown",
   "metadata": {
    "heading_collapsed": true
   },
   "source": [
    "#### READ Data"
   ]
  },
  {
   "cell_type": "code",
   "execution_count": 7,
   "metadata": {
    "ExecuteTime": {
     "end_time": "2020-03-23T11:22:51.109499Z",
     "start_time": "2020-03-23T11:22:50.588951Z"
    },
    "hidden": true
   },
   "outputs": [],
   "source": [
    "#test_export\n",
    "import pandas as pd\n",
    "def read_data(Forever=False, status='train'):\n",
    "    sent, tags = [],[]\n",
    "    con = True\n",
    "    while con:\n",
    "        with open(f'../data/CRF/ResumeNER/{status}.char.bmes', 'r', encoding='UTF-8') as f:\n",
    "            for line in f.readlines():\n",
    "                line = line.strip()\n",
    "                if not line:\n",
    "                    yield sent, tags\n",
    "                    sent, tags = [],[]\n",
    "                    continue\n",
    "\n",
    "                assert len(line.split())>=2, line\n",
    "                w, tag = line.split()\n",
    "                sent.append(w)\n",
    "                tags.append(tag)\n",
    "        con = Forever\n",
    "\n",
    "from torch.utils.data import DataLoader\n",
    "# next(read_data())"
   ]
  },
  {
   "cell_type": "code",
   "execution_count": 8,
   "metadata": {
    "ExecuteTime": {
     "end_time": "2020-03-23T11:22:51.136324Z",
     "start_time": "2020-03-23T11:22:51.113127Z"
    },
    "hidden": true
   },
   "outputs": [],
   "source": [
    "#test_export\n",
    "for data in read_data(status='test'):\n",
    "    break\n",
    "# data"
   ]
  },
  {
   "cell_type": "code",
   "execution_count": 9,
   "metadata": {
    "ExecuteTime": {
     "end_time": "2020-03-23T11:22:51.178353Z",
     "start_time": "2020-03-23T11:22:51.139298Z"
    },
    "hidden": true
   },
   "outputs": [],
   "source": [
    "#test_export\n",
    "for data in read_data():\n",
    "    break\n",
    "# data"
   ]
  },
  {
   "cell_type": "code",
   "execution_count": 10,
   "metadata": {
    "ExecuteTime": {
     "end_time": "2020-03-23T11:22:51.189643Z",
     "start_time": "2020-03-23T11:22:51.181076Z"
    },
    "hidden": true
   },
   "outputs": [
    {
     "data": {
      "text/plain": [
       "{3: 1}"
      ]
     },
     "execution_count": 10,
     "metadata": {},
     "output_type": "execute_result"
    }
   ],
   "source": [
    "d = {1:3}\n",
    "# d.items()\n",
    "dict(map(reversed, d.items()))"
   ]
  },
  {
   "cell_type": "code",
   "execution_count": 11,
   "metadata": {
    "ExecuteTime": {
     "end_time": "2020-03-23T11:22:51.478601Z",
     "start_time": "2020-03-23T11:22:51.192232Z"
    },
    "hidden": true
   },
   "outputs": [],
   "source": [
    "#test_export\n",
    "import sure\n",
    "from collections import Counter\n",
    "\n",
    "# 准备数据\n",
    "# Counter return 0 for unknow key\n",
    "class C2ID(Counter):\n",
    "    \n",
    "    # 0 for unknow\n",
    "    def __init__(self):\n",
    "        super().__init__(self)\n",
    "        self.min_freq = 1\n",
    "        # 0 for unknow\n",
    "        self.indexer = 0\n",
    "        self.freq_cnt = Counter()\n",
    "        self._reverse_dict = {}\n",
    "    \n",
    "    def touchc(self, c):\n",
    "        self.freq_cnt[c] += 1\n",
    "        \n",
    "    def touchs(self, s):\n",
    "        for c in s:\n",
    "            self.touchc(c)\n",
    "    \n",
    "    def update_index(self):\n",
    "        for k,v in self.freq_cnt.items():\n",
    "            if v < self.min_freq: continue\n",
    "            if k in self: continue\n",
    "                \n",
    "            self._reverse_dict[self.indexer]=k\n",
    "            self[k] = self.indexer\n",
    "            \n",
    "            self.indexer += 1\n",
    "    \n",
    "    def reverse(self, idx):\n",
    "        return self._reverse_dict[idx]\n",
    "    \n",
    "    def reveres_list(self, list_idx):\n",
    "        return list(map(self.reverse, list_idx))\n",
    "            \n",
    "c2id = C2ID()\n",
    "tag2id = C2ID()\n",
    "# tag2id.indexer = 0\n",
    "UNK = 'UNK'\n",
    "PAD = 'PAD'\n",
    "for cv in [c2id, tag2id]:\n",
    "    cv.touchs([UNK, PAD])\n",
    "\n",
    "for sent, tags in read_data():\n",
    "    c2id.touchs(sent)\n",
    "    tag2id.touchs(tags)"
   ]
  },
  {
   "cell_type": "code",
   "execution_count": 12,
   "metadata": {
    "ExecuteTime": {
     "end_time": "2020-03-23T11:22:51.486004Z",
     "start_time": "2020-03-23T11:22:51.480935Z"
    },
    "hidden": true
   },
   "outputs": [
    {
     "data": {
      "text/plain": [
       "1794"
      ]
     },
     "execution_count": 12,
     "metadata": {},
     "output_type": "execute_result"
    }
   ],
   "source": [
    "len(c2id.freq_cnt)"
   ]
  },
  {
   "cell_type": "code",
   "execution_count": 13,
   "metadata": {
    "ExecuteTime": {
     "end_time": "2020-03-23T11:22:51.757607Z",
     "start_time": "2020-03-23T11:22:51.488080Z"
    },
    "hidden": true
   },
   "outputs": [
    {
     "name": "stdout",
     "output_type": "stream",
     "text": [
      "mxlen 178 65671\n"
     ]
    }
   ],
   "source": [
    "#test_export\n",
    "# token 的分布\n",
    "\n",
    "def is_breaker(c,t):\n",
    "    if c2id[c] == 0:\n",
    "        if t[0] == 'B':return True\n",
    "        if t[0] == 'M':return True\n",
    "        if t[0] == 'S':return True\n",
    "    return False\n",
    "\n",
    "def check_breaker():\n",
    "    max_len = 0\n",
    "    breaker_c = []\n",
    "    for sent, tags in read_data():\n",
    "        max_len = max(len(sent), max_len)\n",
    "        for c, t in zip(sent, tags):\n",
    "            if is_breaker(c, t): breaker_c.append(c)\n",
    "    return max_len, breaker_c\n",
    "\n",
    "# sorted(c2id.freq_cnt.items(), key=operator.itemgetter(1))[:30]\n",
    "df = pd.DataFrame(c2id.freq_cnt.items())\n",
    "mxlen, breaker_c = check_breaker()\n",
    "\n",
    "# 先不考虑去除低频项\n",
    "c2id.update_index() # 0 for padding\n",
    "tag2id.update_index() # 0 for unknown char\n",
    "print('mxlen', mxlen, len(breaker_c))\n",
    "import pandas  as pd\n",
    "# df = df.sort_values(by=1)\n",
    "\n",
    "# df.describe()\n",
    "# c2id.min_freq = 2\n",
    "# c2id.update_index()\n",
    "# 检查有没有打断标签\n"
   ]
  },
  {
   "cell_type": "code",
   "execution_count": 14,
   "metadata": {
    "ExecuteTime": {
     "end_time": "2020-03-23T11:22:51.780916Z",
     "start_time": "2020-03-23T11:22:51.760148Z"
    },
    "hidden": true
   },
   "outputs": [
    {
     "data": {
      "text/html": [
       "<div>\n",
       "<style scoped>\n",
       "    .dataframe tbody tr th:only-of-type {\n",
       "        vertical-align: middle;\n",
       "    }\n",
       "\n",
       "    .dataframe tbody tr th {\n",
       "        vertical-align: top;\n",
       "    }\n",
       "\n",
       "    .dataframe thead th {\n",
       "        text-align: right;\n",
       "    }\n",
       "</style>\n",
       "<table border=\"1\" class=\"dataframe\">\n",
       "  <thead>\n",
       "    <tr style=\"text-align: right;\">\n",
       "      <th></th>\n",
       "      <th>1</th>\n",
       "    </tr>\n",
       "  </thead>\n",
       "  <tbody>\n",
       "    <tr>\n",
       "      <th>count</th>\n",
       "      <td>1794.000000</td>\n",
       "    </tr>\n",
       "    <tr>\n",
       "      <th>mean</th>\n",
       "      <td>69.175585</td>\n",
       "    </tr>\n",
       "    <tr>\n",
       "      <th>std</th>\n",
       "      <td>280.915003</td>\n",
       "    </tr>\n",
       "    <tr>\n",
       "      <th>min</th>\n",
       "      <td>1.000000</td>\n",
       "    </tr>\n",
       "    <tr>\n",
       "      <th>25%</th>\n",
       "      <td>2.000000</td>\n",
       "    </tr>\n",
       "    <tr>\n",
       "      <th>50%</th>\n",
       "      <td>6.000000</td>\n",
       "    </tr>\n",
       "    <tr>\n",
       "      <th>75%</th>\n",
       "      <td>23.000000</td>\n",
       "    </tr>\n",
       "    <tr>\n",
       "      <th>max</th>\n",
       "      <td>5141.000000</td>\n",
       "    </tr>\n",
       "  </tbody>\n",
       "</table>\n",
       "</div>"
      ],
      "text/plain": [
       "                 1\n",
       "count  1794.000000\n",
       "mean     69.175585\n",
       "std     280.915003\n",
       "min       1.000000\n",
       "25%       2.000000\n",
       "50%       6.000000\n",
       "75%      23.000000\n",
       "max    5141.000000"
      ]
     },
     "execution_count": 14,
     "metadata": {},
     "output_type": "execute_result"
    }
   ],
   "source": [
    "#test_export\n",
    "# token 的分布\n",
    "import pandas  as pd\n",
    "sorted(c2id.freq_cnt.items(), key=operator.itemgetter(1))[:30]\n",
    "df = pd.DataFrame(c2id.freq_cnt.items())\n",
    "df = df.sort_values(by=1)\n",
    "df.describe()"
   ]
  },
  {
   "cell_type": "code",
   "execution_count": 15,
   "metadata": {
    "ExecuteTime": {
     "end_time": "2020-03-23T11:22:51.791203Z",
     "start_time": "2020-03-23T11:22:51.782416Z"
    },
    "hidden": true
   },
   "outputs": [
    {
     "data": {
      "text/plain": [
       "['PAD', 'B-NAME', 'E-NAME']"
      ]
     },
     "execution_count": 15,
     "metadata": {},
     "output_type": "execute_result"
    }
   ],
   "source": [
    "#test_export\n",
    "# tag 的分布\n",
    "import pandas  as pd\n",
    "sorted(tag2id.freq_cnt.items(), key=operator.itemgetter(1))[:30]\n",
    "df = pd.DataFrame(tag2id.freq_cnt.items())\n",
    "# df = df.sort_values(by=1)\n",
    "# df.describe()\n",
    "df[ list(map(lambda x:x[0] == 'B' or x[0] == 'S', df[0]) )][1].sum()\n",
    "# df\n",
    "tag2id.reveres_list([1,2,3])"
   ]
  },
  {
   "cell_type": "markdown",
   "metadata": {
    "ExecuteTime": {
     "end_time": "2020-03-11T03:30:43.154605Z",
     "start_time": "2020-03-11T03:30:43.150611Z"
    },
    "heading_collapsed": true
   },
   "source": [
    "#### onehot and padding"
   ]
  },
  {
   "cell_type": "code",
   "execution_count": 16,
   "metadata": {
    "ExecuteTime": {
     "end_time": "2020-03-23T11:22:51.795898Z",
     "start_time": "2020-03-23T11:22:51.793112Z"
    },
    "hidden": true
   },
   "outputs": [],
   "source": [
    "#test_export\n",
    "num_embeddings = len(c2id)\n",
    "num_label = len(tag2id)"
   ]
  },
  {
   "cell_type": "code",
   "execution_count": 17,
   "metadata": {
    "ExecuteTime": {
     "end_time": "2020-03-23T11:22:51.802547Z",
     "start_time": "2020-03-23T11:22:51.797901Z"
    },
    "hidden": true
   },
   "outputs": [],
   "source": [
    "#export\n",
    "def padding(padding_idx,X):\n",
    "    X = list(X)\n",
    "    max_len = max(map(len, X))\n",
    "    for i,x in enumerate(X):\n",
    "        X[i] = x + [padding_idx] * (max_len - len(x))\n",
    "    return X"
   ]
  },
  {
   "cell_type": "code",
   "execution_count": 18,
   "metadata": {
    "ExecuteTime": {
     "end_time": "2020-03-23T11:22:51.812897Z",
     "start_time": "2020-03-23T11:22:51.808199Z"
    },
    "hidden": true
   },
   "outputs": [],
   "source": [
    "#export\n",
    "import torch\n",
    "from torch import nn\n",
    "def onehot(y, dim_size):\n",
    "    \"\"\"\n",
    "    y: shape (batch_size, max_seq_len)\n",
    "    \"\"\"\n",
    "    assert len(y.shape) == 2, y.shape\n",
    "    eye = np.eye(dim_size)\n",
    "    return eye[y]"
   ]
  },
  {
   "cell_type": "code",
   "execution_count": 19,
   "metadata": {
    "ExecuteTime": {
     "end_time": "2020-03-23T11:22:51.826555Z",
     "start_time": "2020-03-23T11:22:51.815980Z"
    },
    "hidden": true
   },
   "outputs": [],
   "source": [
    "#test_export\n",
    "import numpy as np\n",
    "from functools import partial\n",
    "from pprint import pprint\n",
    "from tqdm import tqdm\n",
    "import math\n",
    "assert isinstance( math.ceil(0.3), int)\n",
    "\n",
    "class get_data():\n",
    "    def __init__(self, batch_size = 2, status='train'):\n",
    "        self.batch_size = batch_size\n",
    "#         self.len = math.ceil( len(list(read_data()))/batch_size )\n",
    "        self.status = status\n",
    "        self.len = len(list(read_data(status=self.status)))//batch_size \n",
    "        \n",
    "    def __iter__(self):\n",
    "        batch_size = self.batch_size\n",
    "        cnt = 0\n",
    "        X = []\n",
    "        Y = []\n",
    "        def set_train():\n",
    "            a = padding(c2id[PAD]  , X)\n",
    "            b = padding(tag2id[PAD], Y)\n",
    "            return tuple(map( np.array, (a,b)))\n",
    "        \n",
    "        for x, y in read_data(status=self.status):\n",
    "            cnt += 1\n",
    "            X.append(list(map(  c2id.__getitem__, x)))\n",
    "            Y.append(list(map(tag2id.__getitem__, y)))\n",
    "    \n",
    "            if cnt == batch_size:\n",
    "                yield set_train()\n",
    "                \n",
    "                # clean up\n",
    "                cnt = 0\n",
    "                X = []\n",
    "                Y = []\n",
    "        \n",
    "        return set_train()\n",
    "    \n",
    "    def __len__(self):\n",
    "        return self.len"
   ]
  },
  {
   "cell_type": "code",
   "execution_count": 20,
   "metadata": {
    "ExecuteTime": {
     "end_time": "2020-03-23T11:22:52.378705Z",
     "start_time": "2020-03-23T11:22:51.828262Z"
    },
    "hidden": true
   },
   "outputs": [
    {
     "name": "stderr",
     "output_type": "stream",
     "text": [
      "/home/zengjianjun/anaconda3/envs/py3torch/lib/python3.7/site-packages/ipykernel_launcher.py:1: TqdmDeprecationWarning: This function will be removed in tqdm==5.0.0\n",
      "Please use `tqdm.notebook.tqdm` instead of `tqdm.tqdm_notebook`\n",
      "  \"\"\"Entry point for launching an IPython kernel.\n"
     ]
    },
    {
     "data": {
      "application/vnd.jupyter.widget-view+json": {
       "model_id": "2b187c39e0e24cc29597866c8055bcd7",
       "version_major": 2,
       "version_minor": 0
      },
      "text/plain": [
       "HBox(children=(FloatProgress(value=0.0, max=1910.0), HTML(value='')))"
      ]
     },
     "metadata": {},
     "output_type": "display_data"
    },
    {
     "name": "stdout",
     "output_type": "stream",
     "text": [
      "\n",
      "[(2, 22), (2, 22)] 1910\n"
     ]
    },
    {
     "data": {
      "text/plain": [
       "[torch.Size([2, 22]), torch.Size([2, 22, 30])]"
      ]
     },
     "execution_count": 20,
     "metadata": {},
     "output_type": "execute_result"
    }
   ],
   "source": [
    "#test_export\n",
    "for train in common.tqdm(get_data()):\n",
    "    pass\n",
    "print(list(map(np.shape, train)),  len(get_data()) )\n",
    "\n",
    "def parse_train(train):\n",
    "    train_X, train_Y = train\n",
    "    train_Y = onehot(train_Y, num_label)\n",
    "    train_Y = torch.Tensor(train_Y)\n",
    "    train_X = torch.LongTensor(train_X)\n",
    "    return train_X, train_Y \n",
    "list(map(lambda x:x.shape, parse_train(train)))"
   ]
  },
  {
   "cell_type": "code",
   "execution_count": 21,
   "metadata": {
    "ExecuteTime": {
     "end_time": "2020-03-23T11:22:52.498084Z",
     "start_time": "2020-03-23T11:22:52.381541Z"
    },
    "hidden": true
   },
   "outputs": [
    {
     "name": "stderr",
     "output_type": "stream",
     "text": [
      "/home/zengjianjun/anaconda3/envs/py3torch/lib/python3.7/site-packages/ipykernel_launcher.py:1: TqdmDeprecationWarning: This function will be removed in tqdm==5.0.0\n",
      "Please use `tqdm.notebook.tqdm` instead of `tqdm.tqdm_notebook`\n",
      "  \"\"\"Entry point for launching an IPython kernel.\n"
     ]
    },
    {
     "data": {
      "application/vnd.jupyter.widget-view+json": {
       "model_id": "7a2adf3b6c4e4817b837d6b7847eb04e",
       "version_major": 2,
       "version_minor": 0
      },
      "text/plain": [
       "HBox(children=(FloatProgress(value=0.0, max=238.0), HTML(value='')))"
      ]
     },
     "metadata": {},
     "output_type": "display_data"
    },
    {
     "name": "stdout",
     "output_type": "stream",
     "text": [
      "\n",
      "[(2, 74), (2, 74)]\n",
      "[torch.Size([2, 74]), torch.Size([2, 74, 30])] 238\n"
     ]
    }
   ],
   "source": [
    "#test_export\n",
    "for train in common.tqdm(get_data(status='test')):\n",
    "    pass\n",
    "print(list(map(np.shape, train)))\n",
    "print(list(map(lambda x:x.shape, parse_train(train))),  len(get_data(status='test')) )\n",
    "del train"
   ]
  },
  {
   "cell_type": "code",
   "execution_count": 22,
   "metadata": {
    "ExecuteTime": {
     "end_time": "2020-03-23T11:22:52.506891Z",
     "start_time": "2020-03-23T11:22:52.500092Z"
    },
    "hidden": true
   },
   "outputs": [
    {
     "data": {
      "text/plain": [
       "array([[[0., 1., 0., 0.],\n",
       "        [0., 0., 1., 0.],\n",
       "        [0., 0., 0., 1.]],\n",
       "\n",
       "       [[1., 0., 0., 0.],\n",
       "        [0., 0., 0., 1.],\n",
       "        [0., 1., 0., 0.]]])"
      ]
     },
     "execution_count": 22,
     "metadata": {},
     "output_type": "execute_result"
    }
   ],
   "source": [
    "#test_export\n",
    "onehot(np.array(\n",
    "    [\n",
    "        [1,2,3],\n",
    "        [0,3,1]\n",
    "    ]\n",
    "), 4)"
   ]
  },
  {
   "cell_type": "markdown",
   "metadata": {},
   "source": [
    "### CRF"
   ]
  },
  {
   "cell_type": "markdown",
   "metadata": {
    "heading_collapsed": true
   },
   "source": [
    "#### TopK"
   ]
  },
  {
   "cell_type": "code",
   "execution_count": 23,
   "metadata": {
    "ExecuteTime": {
     "end_time": "2020-03-23T11:22:52.526651Z",
     "start_time": "2020-03-23T11:22:52.509163Z"
    },
    "hidden": true
   },
   "outputs": [
    {
     "data": {
      "text/plain": [
       "True"
      ]
     },
     "execution_count": 23,
     "metadata": {},
     "output_type": "execute_result"
    }
   ],
   "source": [
    "#export\n",
    "import sure\n",
    "from queue import PriorityQueue\n",
    "class TopK:\n",
    "    def __init__(self, k, topks = None):\n",
    "        # (priority_number, data)\n",
    "#         pq = PriorityQueue(k)\n",
    "        assert k == 1, \"not implemented\"\n",
    "    \n",
    "        self.m_inf = -float('inf')\n",
    "        self.data = None\n",
    "        self.score = self.m_inf\n",
    "        \n",
    "        if topks is not None:\n",
    "            assert len(topks) >= k\n",
    "            for t in topks:\n",
    "                self.put( t.get_max_data(), t.get_max_score(),)\n",
    "            return \n",
    "    \n",
    "#         for i in range(k):\n",
    "#             pq.put_nowait((m_inf))\n",
    "#         self.pq = pq\n",
    "        \n",
    "    def put(self,  data, score,):\n",
    "        assert len(data) >= 1\n",
    "        if self.score is self.m_inf:\n",
    "            pass\n",
    "        else :\n",
    "            assert type(score) == type(self.score), \"score type muse consit\"\n",
    "        if score > self.score:\n",
    "            self.score, self.data = score, data\n",
    "    \n",
    "    def __str__(self):\n",
    "        return (self.score, self.data).__str__()\n",
    "    \n",
    "    def get_max_score(self):\n",
    "        return self.score\n",
    "    \n",
    "    def get_max_data(self):\n",
    "        return self.data\n",
    "    \n",
    "    def get_kth_data(self, k):\n",
    "        raise NotImplementedError\n",
    "        \n",
    "    def get_kth_score(self, k):\n",
    "        raise NotImplementedError\n",
    "        \n",
    "    def __repr__(self):\n",
    "        return self.__str__()\n",
    "        \n",
    "    \n",
    "    \n",
    "topk = TopK(1)\n",
    "for i in range(10):\n",
    "    topk.put( [i],i+10,)\n",
    "#     print(topk.data)\n",
    "# assert topk.\n",
    "topk.get_max_data().should.eql([9])\n",
    "topk.get_max_score().should.eql(19)"
   ]
  },
  {
   "cell_type": "code",
   "execution_count": 24,
   "metadata": {
    "ExecuteTime": {
     "end_time": "2020-03-23T11:22:52.534709Z",
     "start_time": "2020-03-23T11:22:52.528711Z"
    },
    "hidden": true
   },
   "outputs": [
    {
     "data": {
      "text/plain": [
       "True"
      ]
     },
     "execution_count": 24,
     "metadata": {},
     "output_type": "execute_result"
    }
   ],
   "source": [
    "#test_export\n",
    "topk = TopK(1)\n",
    "topk.put( [1], 1,)\n",
    "for i in range(1, 10):\n",
    "    t = list(range(i)) + topk.get_max_data()\n",
    "    topk.put(t, i)\n",
    "topk.m_inf.should.eql(topk.m_inf)"
   ]
  },
  {
   "cell_type": "markdown",
   "metadata": {
    "heading_collapsed": true
   },
   "source": [
    "#### viterbi"
   ]
  },
  {
   "cell_type": "code",
   "execution_count": 4,
   "metadata": {
    "ExecuteTime": {
     "end_time": "2020-03-23T11:33:39.322441Z",
     "start_time": "2020-03-23T11:33:39.305450Z"
    },
    "hidden": true
   },
   "outputs": [],
   "source": [
    "#export\n",
    "def j_viterbi(logits, transitions):\n",
    "    \"\"\"\n",
    "    Uses viterbi algorithm to find most likely tags for the given inputs.\n",
    "    If constraints are applied, disallows all other transitions.\n",
    "    Returns a tensor with the same size as the mask (not list)\n",
    "    \"\"\"\n",
    "    logits = model.nodes\n",
    "    mask = None\n",
    "    transitions = model.crf.trans\n",
    "    batch_size, sequence_length, num_tags = logits.size()\n",
    "\n",
    "    if mask is None:\n",
    "        mask = torch.ones(*logits.shape[:2], dtype=torch.bool, device=logits.device)\n",
    "\n",
    "    # Augment transitions matrix with start and end transitions\n",
    "    start_tag = num_tags\n",
    "    end_tag = num_tags + 1\n",
    "\n",
    "    # Apply transition constraints\n",
    "    # inverse mask because torch.masked_fill will fill value when mask is True\n",
    "    constrained_transitions = transitions.detach()\n",
    "    # transitions[:num_tags, :num_tags] = constrained_transitions\n",
    "\n",
    "    history = []\n",
    "    # Transpose batch size and sequence dimensions\n",
    "    mask = mask.transpose(0, 1).bool()\n",
    "    logits = logits.transpose(0, 1)\n",
    "\n",
    "    score = logits[0]\n",
    "\n",
    "    # For each i we compute logits for the transitions from timestep i-1 to timestep i.\n",
    "    # We do so in a (batch_size, num_tags, num_tags) tensor where the axes are\n",
    "    # (instance, current_tag, next_tag)\n",
    "    for i in range(1, sequence_length):\n",
    "        # The emit scores are for time i (\"next_tag\") so we broadcast along the current_tag axis.\n",
    "        emit_scores = logits[i].view(batch_size, 1, num_tags)\n",
    "        broadcast_score = score.view(batch_size, num_tags, 1)\n",
    "        inner = broadcast_score + emit_scores + constrained_transitions\n",
    "        update_score, indices = inner.max(dim=1)\n",
    "        # if mask[i] is True(mask[i] == 1 means this char is not padded) we use new_score,\n",
    "        # otherwise last score.\n",
    "        score = torch.where(mask[i].unsqueeze(1), update_score, score)\n",
    "        history.append(indices)\n",
    "    last_indices = score.argmax(-1)\n",
    "    best_path = [last_indices]\n",
    "    indices = last_indices\n",
    "    # backtrace the path inversely\n",
    "    for i in range(-1, -sequence_length, -1):\n",
    "        recur_indices = history[i].gather(1, indices.view(batch_size, 1)).squeeze()\n",
    "        indices = torch.where(mask[i], recur_indices, indices)\n",
    "        best_path.insert(0, indices)\n",
    "    best_path = torch.stack(best_path).transpose(0, 1)\n",
    "    return best_path "
   ]
  },
  {
   "cell_type": "code",
   "execution_count": 26,
   "metadata": {
    "ExecuteTime": {
     "end_time": "2020-03-23T11:22:52.563383Z",
     "start_time": "2020-03-23T11:22:52.552411Z"
    },
    "hidden": true
   },
   "outputs": [],
   "source": [
    "#export\n",
    "# dont use this\n",
    "def viterbi(nodes,trans_p, initial_state = None, topk = 1, start_p = None):\n",
    "    \"\"\"\n",
    "    nodes: array, [{\"<TAG>\": <float>}]\n",
    "    trans_p: dict, {\"<TAG_A>\": {\"TAG_B\": <float>}}, TAG_A -> TAG-B\n",
    "    return_max=True: bool, set to False if your want to avoid ill endding tag and find your own.\n",
    "    initial_state=None: None or list to avoid impossible starting tags\n",
    "    start_p: P(o1), may be nessary\n",
    "    all float number in log form\n",
    "    \"\"\"\n",
    "    assert len(nodes.shape) == 2,len(nodes.shape)  # max_seq_len, label_num\n",
    "    kth = 1\n",
    "    if initial_state is None:\n",
    "        initial_state = nodes[0]\n",
    "        nodes = nodes[1:]\n",
    "        \n",
    "    def init_tok():return TopK(kth)\n",
    "    \n",
    "    def init_toks(): return [init_tok() for i in range(nodes.shape[-1])]\n",
    "\n",
    "    last_best_nodes = init_toks()\n",
    "    next_best_nodes = init_toks()\n",
    "    \n",
    "    \n",
    "    for idx, (tk,score) in enumerate( zip(last_best_nodes , initial_state)):\n",
    "        tk.put([idx], score)\n",
    "\n",
    "    for node in nodes:\n",
    "        for t,v in enumerate(node):\n",
    "\n",
    "            current_best_node = init_tok() # for t\n",
    "            \n",
    "            for topk in last_best_nodes:\n",
    "                path = topk.get_max_data()\n",
    "                score = topk.get_max_score()\n",
    "                \n",
    "                last_t = path[-1]\n",
    "                new_path = path + [t]\n",
    "                tran = trans_p[last_t][t]\n",
    "                \n",
    "                current_best_node.put(new_path, score + tran + v)\n",
    "\n",
    "            next_best_nodes[t] = current_best_node\n",
    "            \n",
    "        next_best_nodes, last_best_nodes =  last_best_nodes, next_best_nodes,\n",
    "        \n",
    "    topk = TopK(1, last_best_nodes)\n",
    "    \n",
    "    return topk.get_max_data()"
   ]
  },
  {
   "cell_type": "code",
   "execution_count": 27,
   "metadata": {
    "ExecuteTime": {
     "end_time": "2020-03-23T11:22:52.573536Z",
     "start_time": "2020-03-23T11:22:52.565195Z"
    },
    "hidden": true
   },
   "outputs": [
    {
     "data": {
      "text/plain": [
       "True"
      ]
     },
     "execution_count": 27,
     "metadata": {},
     "output_type": "execute_result"
    }
   ],
   "source": [
    "#test_export\n",
    "nodes = [\n",
    "    [1, 2, 1],\n",
    "    [1, 1, 3],\n",
    "    [4, 1, 3],\n",
    "]\n",
    "trans = [\n",
    "    [1, 1, 1],\n",
    "    [1, 1, 1],\n",
    "    [1, 1, 1],\n",
    "]\n",
    "nodes, trans = map(np.array, [nodes, trans])\n",
    "viterbi(nodes, trans).should.eql([1,2,0])"
   ]
  },
  {
   "cell_type": "markdown",
   "metadata": {
    "heading_collapsed": true
   },
   "source": [
    "#### get_shift_mask"
   ]
  },
  {
   "cell_type": "code",
   "execution_count": 28,
   "metadata": {
    "ExecuteTime": {
     "end_time": "2020-03-23T11:22:52.580797Z",
     "start_time": "2020-03-23T11:22:52.575633Z"
    },
    "hidden": true
   },
   "outputs": [],
   "source": [
    "#export\n",
    "def get_shift_mask(labels):\n",
    "    \"\"\"\n",
    "    labels: (batch_size, max_seq_len, num_label) in onehot all element should be 1/0\n",
    "    turn num_labels into matrix of (num_label, num_label) where m[ y[i] ][ y[i+1] ] = 1, 0 for else\n",
    "    return (batch_size, max_seq_len, num_label, num_label)\n",
    "    \"\"\"\n",
    "    labels1 = labels[:, :-1, ] # y[i]\n",
    "\n",
    "    labels2 = labels[:, 1:] # y[i + 1]\n",
    "\n",
    "    labels1 = labels1[:, :, :, None] # as 系数, row indexer\n",
    "    labels2 = labels2[:, :, None, :] # as row, col indexer\n",
    "\n",
    "    shift_mask = labels1 * labels2\n",
    "    return shift_mask"
   ]
  },
  {
   "cell_type": "code",
   "execution_count": 29,
   "metadata": {
    "ExecuteTime": {
     "end_time": "2020-03-23T11:22:52.591661Z",
     "start_time": "2020-03-23T11:22:52.582546Z"
    },
    "hidden": true
   },
   "outputs": [],
   "source": [
    "#test_export\n",
    "import sure\n",
    "tmp_num_label = 5\n",
    "tmp_labels_raw = [[1,2,3,4], [3,3,3,2]]\n",
    "tmp_labels = np.array(tmp_labels_raw)\n",
    "tmp_labels = onehot(tmp_labels, tmp_num_label)\n",
    "shift_mask = get_shift_mask(tmp_labels)\n",
    "\n",
    "# for batch\n",
    "for tags, mask in zip(tmp_labels_raw, shift_mask):\n",
    "    \n",
    "    # for seq\n",
    "    # len = max_seq_len - 1\n",
    "    for y_i, y_j,matrix in zip(tags[:-1], tags[1:], mask):\n",
    "        # y_j  = y[i+1]\n",
    "        matrix = np.copy(matrix)\n",
    "        matrix[y_i][y_j] -= 1 # only matrix[y_i][y_j] = 1, else 0\n",
    "        matrix.sum().should.eql(0)\n",
    "        "
   ]
  },
  {
   "cell_type": "markdown",
   "metadata": {
    "heading_collapsed": true
   },
   "source": [
    "#### CRF"
   ]
  },
  {
   "cell_type": "code",
   "execution_count": 30,
   "metadata": {
    "ExecuteTime": {
     "end_time": "2020-03-23T11:22:52.602885Z",
     "start_time": "2020-03-23T11:22:52.593735Z"
    },
    "hidden": true
   },
   "outputs": [],
   "source": [
    "#export\n",
    "import math\n",
    "# 👴的CRF\n",
    "class CRF(nn.Module):\n",
    "    def __init__(self, num_label):\n",
    "        super().__init__()\n",
    "        # 先不考虑padding标签的问题\n",
    "        # 先不考虑mask的问题\n",
    "        self.trans = nn.Parameter(torch.Tensor(num_label, num_label))\n",
    "        nn.init.kaiming_uniform_(self.trans, a=math.sqrt(5))\n",
    "        \n",
    "    def _path_score(self, inputs, labels):\n",
    "        return _path_score(inputs, labels, self.trans)\n",
    "        \n",
    "    def _sum_over_path_score(self, inputs, labels):\n",
    "        return _sum_over_path_score(inputs, labels, self.trans)\n",
    "    \n",
    "    def veterbi_decode(self, nodes):\n",
    "        return _veterbi_decode(nodes, self.trans.detached().numpy())\n",
    "    \n",
    "    def forward(self, inputs, labels):\n",
    "        \"\"\"\n",
    "        inputs: (batch_size, max_seq_len, label_num) embed with latent dim label_nun\n",
    "        labels: (batch_size, max_seq_len, label_num) ground-truth label in onehot\n",
    "        return: score\n",
    "       \"\"\"\n",
    "        path_score = self._path_score(inputs, labels)\n",
    "        sum_over_path = self._sum_over_path_score(inputs, labels)\n",
    "        \n",
    "        return torch.sum(- path_score + sum_over_path)"
   ]
  },
  {
   "cell_type": "code",
   "execution_count": 31,
   "metadata": {
    "ExecuteTime": {
     "end_time": "2020-03-23T11:22:52.614850Z",
     "start_time": "2020-03-23T11:22:52.604694Z"
    },
    "hidden": true
   },
   "outputs": [],
   "source": [
    "#export\n",
    "# trans[i][j]表示从i标签转移至j标签\n",
    "def _path_score(inputs, labels, trans):\n",
    "    \"\"\"\n",
    "    score of h(y[i]) ground-truch y[i] plus its g[y[i]][y[i+1]], inputs for h, trans for g\n",
    "    inputs.size() # batch_size, max_seq_len, num_label\n",
    "    trans.size() # num_label, num_label\n",
    "    labels.size() #batch_size, max_seq_len, num_label\n",
    "    \"\"\"\n",
    "    sum_h_score = inputs * labels # batch_size, max_seq_len, num_label\n",
    "    sum_h_score = sum_h_score.sum(-1, ) # batch_size, max_seq_len\n",
    "    sum_h_score = sum_h_score.sum(-1, keepdim = True) # batch_size, 1\n",
    "\n",
    "    mask = get_shift_mask(labels) # (batch_size, max_seq_len, num_label, num_label)\n",
    "    sum_g_score = mask * trans[None, None]\n",
    "    sum_g_score = sum_g_score.sum((-1, -2)) # batch_size, max_seq_len\n",
    "    sum_g_score = sum_g_score.sum((-1), keepdim = True) # batch_size, 1 \n",
    "    path_score = sum_g_score + sum_h_score\n",
    "    path_score.shape # batc_size, 1\n",
    "    return path_score\n",
    "\n",
    "def _sum_over_path_score(inputs, labels, trans):\n",
    "    \"\"\"\n",
    "    @see https://kexue.fm/archives/5542#%E5%BD%92%E4%B8%80%E5%8C%96%E5%9B%A0%E5%AD%90\n",
    "    \"\"\"\n",
    "    trans = trans[None, :, :] # (1, num_label, num_label,)\n",
    "    Z = inputs[:,0,:]\n",
    "    inputs = inputs[:, 1:,:]\n",
    "    times_seq_len = inputs.shape[1]\n",
    "    Z.shape\n",
    "    for time_idx in range(times_seq_len):\n",
    "            h = inputs[:, time_idx, :] # batch_size, num_label\n",
    "            Z = Z[:,:, None] # as row coeffiecient, (batch_size, num_label, 1)\n",
    "            Z = Z + trans\n",
    "            Z = torch.logsumexp(Z, -2)\n",
    "            Z = Z + h\n",
    "    Z = torch.logsumexp(Z, -1)\n",
    "    return Z"
   ]
  },
  {
   "cell_type": "markdown",
   "metadata": {},
   "source": [
    "#### test CRF"
   ]
  },
  {
   "cell_type": "markdown",
   "metadata": {
    "heading_collapsed": true
   },
   "source": [
    "##### define model"
   ]
  },
  {
   "cell_type": "code",
   "execution_count": 32,
   "metadata": {
    "ExecuteTime": {
     "end_time": "2020-03-23T11:22:52.627808Z",
     "start_time": "2020-03-23T11:22:52.616712Z"
    },
    "hidden": true
   },
   "outputs": [
    {
     "data": {
      "text/plain": [
       "30"
      ]
     },
     "execution_count": 32,
     "metadata": {},
     "output_type": "execute_result"
    }
   ],
   "source": [
    "#test_export\n",
    "import torch.functional as F\n",
    "# 空也放进去映射了，不用加1，否则回出现随机的tag2id.reserve，键值不存在错误。\n",
    "embedding_dim = 64\n",
    "lstm_dim = 32\n",
    "len(tag2id)"
   ]
  },
  {
   "cell_type": "code",
   "execution_count": 33,
   "metadata": {
    "ExecuteTime": {
     "end_time": "2020-03-23T11:22:52.639763Z",
     "start_time": "2020-03-23T11:22:52.629847Z"
    },
    "hidden": true
   },
   "outputs": [],
   "source": [
    "#test_export\n",
    "# 不过crf的，用交叉熵\n",
    "class TestNER(nn.Module):\n",
    "    def __init__(self):\n",
    "        super().__init__()\n",
    "        self.emb = nn.Embedding(num_embeddings, embedding_dim)\n",
    "        self.lstm = nn.LSTM(input_size=embedding_dim, hidden_size=lstm_dim)\n",
    "        self.fc = nn.Linear(lstm_dim, num_label)\n",
    "        self.crf = CRF(num_label)\n",
    "        self.nodes = None\n",
    "        \n",
    "    def decode(self):\n",
    "        self.crf.veterbi_decode(self.nodes.detach.numpy())\n",
    "        \n",
    "    def forward_nodes(self, inputs):\n",
    "        x = self.emb(inputs)\n",
    "        x, (hn, cn)= self.lstm(x)\n",
    "        x = self.fc(x)\n",
    "        self.nodes = x\n",
    "        return x\n",
    "        \n",
    "        \n",
    "    def forward(self, inputs, labels):\n",
    "        x = self.forward_nodes(inputs)\n",
    "        x = self.crf(x, labels)\n",
    "        return x"
   ]
  },
  {
   "cell_type": "code",
   "execution_count": 34,
   "metadata": {
    "ExecuteTime": {
     "end_time": "2020-03-23T11:22:58.992708Z",
     "start_time": "2020-03-23T11:22:52.641372Z"
    },
    "hidden": true
   },
   "outputs": [
    {
     "name": "stderr",
     "output_type": "stream",
     "text": [
      "/home/zengjianjun/anaconda3/envs/py3torch/lib/python3.7/site-packages/ipykernel_launcher.py:14: TqdmDeprecationWarning: This function will be removed in tqdm==5.0.0\n",
      "Please use `tqdm.notebook.tqdm` instead of `tqdm.tqdm_notebook`\n",
      "  \n"
     ]
    },
    {
     "data": {
      "application/vnd.jupyter.widget-view+json": {
       "model_id": "95694abbe53f4e3c965e89e284ba0089",
       "version_major": 2,
       "version_minor": 0
      },
      "text/plain": [
       "HBox(children=(FloatProgress(value=1.0, bar_style='info', max=1.0), HTML(value='')))"
      ]
     },
     "metadata": {},
     "output_type": "display_data"
    },
    {
     "name": "stdout",
     "output_type": "stream",
     "text": [
      "tensor(23904.2969, grad_fn=<SumBackward0>)\n",
      "tensor(9059.3867, grad_fn=<SumBackward0>)\n",
      "tensor(4823.8872, grad_fn=<SumBackward0>)\n",
      "tensor(2739.9365, grad_fn=<SumBackward0>)\n",
      "tensor(1535.3125, grad_fn=<SumBackward0>)\n",
      "tensor(841.6074, grad_fn=<SumBackward0>)\n",
      "tensor(466.9702, grad_fn=<SumBackward0>)\n",
      "tensor(286.4877, grad_fn=<SumBackward0>)\n",
      "tensor(197.8009, grad_fn=<SumBackward0>)\n",
      "tensor(150.2832, grad_fn=<SumBackward0>)\n",
      "\n"
     ]
    }
   ],
   "source": [
    "#test_export\n",
    "from torch import optim\n",
    "from exp.common import tqdm\n",
    "for train in get_data(10):\n",
    "    break;\n",
    "train_X, train_Y = parse_train(train)\n",
    "# differs for tensor and model\n",
    "lr = 1e-2\n",
    "testner= TestNER()\n",
    "model = testner\n",
    "del testner\n",
    "op = optim.Adam(model.parameters(), lr=lr)\n",
    "\n",
    "for ep_idx, ep in tqdm(enumerate(range(100))):\n",
    "    model.zero_grad()\n",
    "    loss = model(train_X, train_Y)\n",
    "    loss.backward()\n",
    "    if(ep_idx%10 == 0):\n",
    "        print(loss)\n",
    "    op.step()\n",
    "    "
   ]
  },
  {
   "cell_type": "code",
   "execution_count": 107,
   "metadata": {
    "ExecuteTime": {
     "end_time": "2020-03-23T09:30:14.694894Z",
     "start_time": "2020-03-23T09:29:45.207803Z"
    },
    "deletable": false,
    "editable": false,
    "hidden": true,
    "run_control": {
     "frozen": true
    }
   },
   "outputs": [
    {
     "name": "stderr",
     "output_type": "stream",
     "text": [
      "/home/zengjianjun/anaconda3/envs/py3torch/lib/python3.7/site-packages/ipykernel_launcher.py:1: TqdmDeprecationWarning: This function will be removed in tqdm==5.0.0\n",
      "Please use `tqdm.notebook.tqdm` instead of `tqdm.tqdm_notebook`\n",
      "  \"\"\"Entry point for launching an IPython kernel.\n"
     ]
    },
    {
     "data": {
      "application/vnd.jupyter.widget-view+json": {
       "model_id": "add45806102a4d7a986a3cf60c0fd2ad",
       "version_major": 2,
       "version_minor": 0
      },
      "text/plain": [
       "HBox(children=(FloatProgress(value=1.0, bar_style='info', max=1.0), HTML(value='')))"
      ]
     },
     "metadata": {},
     "output_type": "display_data"
    },
    {
     "name": "stdout",
     "output_type": "stream",
     "text": [
      "\n"
     ]
    }
   ],
   "source": [
    "#test_exprt\n",
    "my_best_path = list(common.tqdm(map(lambda nodes:viterbi(nodes, model.crf.trans), model.nodes)))\n",
    "# 速度提升很大，从28.7s -> 54ms， 提升3个数量级\n",
    "my_best_path =  np.array(my_best_path)\n",
    "my_best_path = torch.tensor(my_best_path, dtype=torch.int64)\n",
    "assert torch.allclose(j_viterbi(model.nodes, model.crf.trans), my_best_path )"
   ]
  },
  {
   "cell_type": "code",
   "execution_count": 35,
   "metadata": {
    "ExecuteTime": {
     "end_time": "2020-03-23T11:22:59.023656Z",
     "start_time": "2020-03-23T11:22:58.995113Z"
    },
    "hidden": true
   },
   "outputs": [],
   "source": [
    "#test_export\n",
    "from seqeval.metrics import classification_report, accuracy_score\n",
    "\n",
    "class Parser:\n",
    "    def __init__(self, model):\n",
    "        self.model = model\n",
    "        self.in_place_nodes = False\n",
    "        \n",
    "    def parse_one_seq(self,seq_nodes, trans = None):\n",
    "        if trans is None:\n",
    "            trans = self.model.crf.trans.cpu().detach().numpy()\n",
    "        pred=viterbi(seq_nodes, trans)\n",
    "        return pred\n",
    "    \n",
    "    def parse_nodes(self, nodes=None, trans=None):\n",
    "        if nodes is None:\n",
    "            nodes = self.model.nodes.cpu().detach()\n",
    "        if trans is None:\n",
    "            trans = self.model.crf.trans.cpu().detach()\n",
    "        \n",
    "#         parse = partial(self.parse_one_seq, trans = trans)\n",
    "#         self.y_pred = list(common.tqdm(map(parse, nodes)))\n",
    "        self.y_pred = j_viterbi(nodes, trans)\n",
    "        return self.y_pred\n",
    "    \n",
    "    def parse_test_y_pred(self, test_X, test_Y):\n",
    "        assert len(test_Y.shape) == 2, \"please give test_Y in shape (batch_size, max_seq_len) tag in sparse int, given\"+str(test_Y.shape)\n",
    "        if self.in_place_nodes:\n",
    "            nodes = None\n",
    "        else :\n",
    "            with torch.no_grad():\n",
    "                nodes = self.model.forward_nodes(test_X)\n",
    "        y_pred = self.parse_nodes(nodes)\n",
    "        return y_pred, test_Y\n",
    "    \n",
    "    def parse_test_cls_report(self, test_X, test_Y):\n",
    "        \"\"\"\n",
    "        one in all\n",
    "        \"\"\"\n",
    "        y_pred, y_true = self.parse_test_y_pred(test_X, test_Y)\n",
    "#         y_pred = self.parse_nodes()\n",
    "#         y_true = test_Y\n",
    "        y_pred, y_true = map(self.cvt, (y_pred, y_true)) \n",
    "        return classification_report(y_true, y_pred)\n",
    "    \n",
    "    def parse_test_acc(self, test_X, test_Y):\n",
    "        y_pred, y_true = self.parse_test_y_pred(test_X, test_Y)\n",
    "        y_pred, y_true = map(self.cvt, (y_pred, y_true)) \n",
    "        return accuracy_score(y_true, y_pred)\n",
    "    \n",
    "    def cvt(self, y):\n",
    "        if isinstance(y, torch.Tensor) :y = y.cpu().numpy()\n",
    "        return list(map(tag2id.reveres_list, y))\n",
    "    "
   ]
  },
  {
   "cell_type": "code",
   "execution_count": 36,
   "metadata": {
    "ExecuteTime": {
     "end_time": "2020-03-23T11:22:59.066214Z",
     "start_time": "2020-03-23T11:22:59.025424Z"
    },
    "hidden": true
   },
   "outputs": [
    {
     "data": {
      "text/plain": [
       "True"
      ]
     },
     "execution_count": 36,
     "metadata": {},
     "output_type": "execute_result"
    }
   ],
   "source": [
    "#test_export\n",
    "parser = Parser(model)\n",
    "y_pred = parser.parse_nodes()\n",
    "y_pred = parser.cvt(y_pred)\n",
    "y_true = parser.cvt(train[1])\n",
    "report = classification_report(y_true, y_pred)\n",
    "acc = accuracy_score(y_true, y_pred)\n",
    "acc.should.eql(1.0, 0.05)"
   ]
  },
  {
   "cell_type": "code",
   "execution_count": 37,
   "metadata": {
    "ExecuteTime": {
     "end_time": "2020-03-23T11:22:59.108975Z",
     "start_time": "2020-03-23T11:22:59.067940Z"
    },
    "hidden": true
   },
   "outputs": [
    {
     "data": {
      "text/plain": [
       "True"
      ]
     },
     "execution_count": 37,
     "metadata": {},
     "output_type": "execute_result"
    }
   ],
   "source": [
    "#test_export\n",
    "# 应该是上一个的两倍时间\n",
    "parser.in_place_nodes = True\n",
    "assert report == parser.parse_test_cls_report(train_X, train[1])\n",
    "parser.parse_test_acc(train_X, train[1]).should.eql(1.0)"
   ]
  },
  {
   "cell_type": "code",
   "execution_count": 38,
   "metadata": {
    "ExecuteTime": {
     "end_time": "2020-03-23T11:22:59.151425Z",
     "start_time": "2020-03-23T11:22:59.110556Z"
    },
    "hidden": true
   },
   "outputs": [
    {
     "name": "stdout",
     "output_type": "stream",
     "text": [
      "all should be one\n",
      "           precision    recall  f1-score   support\n",
      "\n",
      "    TITLE       1.00      1.00      1.00        20\n",
      "     CONT       1.00      1.00      1.00         2\n",
      "      PAD       1.00      1.00      1.00         9\n",
      "      ORG       1.00      1.00      1.00        11\n",
      "     NAME       1.00      1.00      1.00         2\n",
      "      PRO       1.00      1.00      1.00         2\n",
      "     RACE       1.00      1.00      1.00         1\n",
      "      EDU       1.00      1.00      1.00         3\n",
      "\n",
      "micro avg       1.00      1.00      1.00        50\n",
      "macro avg       1.00      1.00      1.00        50\n",
      "\n"
     ]
    }
   ],
   "source": [
    "#test_export\n",
    "#应该是上一个的10倍时间\n",
    "parser.in_place_nodes = False\n",
    "assert report == parser.parse_test_cls_report(train_X, train[1])\n",
    "parser.parse_test_acc(train_X, train[1]).should.eql(1.0)\n",
    "print('all should be one', report, sep='\\n')\n",
    "                      \n",
    "assert isinstance(y_pred, list)"
   ]
  },
  {
   "cell_type": "code",
   "execution_count": 39,
   "metadata": {
    "ExecuteTime": {
     "end_time": "2020-03-23T11:22:59.155764Z",
     "start_time": "2020-03-23T11:22:59.153069Z"
    },
    "hidden": true
   },
   "outputs": [],
   "source": [
    "#test_export\n",
    "del train, train_X, train_Y,  y_pred, y_true, report\n",
    "del model"
   ]
  },
  {
   "cell_type": "markdown",
   "metadata": {},
   "source": [
    "##### test train"
   ]
  },
  {
   "cell_type": "code",
   "execution_count": 40,
   "metadata": {
    "ExecuteTime": {
     "end_time": "2020-03-23T11:22:59.164954Z",
     "start_time": "2020-03-23T11:22:59.157358Z"
    }
   },
   "outputs": [],
   "source": [
    "#test_export\n",
    "class Metric():\n",
    "    def __init__(self, status, parser):\n",
    "        self.status = status\n",
    "        self.parse = parser\n",
    "        \n",
    "    def cal_metric(self,  fn):\n",
    "        parser, = self.parse,\n",
    "        all_y_pred, all_y_true = [], []\n",
    "        for test in get_data(100, status=self.status):\n",
    "            test_X, _ = parse_train(test)\n",
    "            if is_cuda():test_X = test_X.cuda()\n",
    "            y_pred, y_true = parser.parse_test_y_pred(test_X, test[1])\n",
    "            y_pred, y_true = map(parser.cvt, (y_pred, y_true)) \n",
    "            all_y_pred += y_pred\n",
    "            all_y_true += y_true\n",
    "        return fn(all_y_true, all_y_pred)\n",
    "\n",
    "    def cal_acc(self):\n",
    "        return self.cal_metric(accuracy_score)\n",
    "        \n",
    "    def cal_report(self):\n",
    "        return self.cal_metric(classification_report)\n"
   ]
  },
  {
   "cell_type": "code",
   "execution_count": 41,
   "metadata": {
    "ExecuteTime": {
     "end_time": "2020-03-23T11:22:59.174475Z",
     "start_time": "2020-03-23T11:22:59.166719Z"
    }
   },
   "outputs": [],
   "source": [
    "#test_export\n",
    "from io import StringIO\n",
    "from exp.common import tqdm\n",
    "import gc\n",
    "strinfos = []\n",
    "lr = 1e-1\n",
    "test_ner = TestNER()\n",
    "# if is_cuda():\n",
    "#     test_ner.cuda()\n",
    "model = test_ner \n",
    "del test_ner \n",
    "op = optim.Adam(model.parameters(), lr=lr)"
   ]
  },
  {
   "cell_type": "code",
   "execution_count": 42,
   "metadata": {
    "ExecuteTime": {
     "end_time": "2020-03-23T11:23:02.092670Z",
     "start_time": "2020-03-23T11:22:59.176037Z"
    }
   },
   "outputs": [],
   "source": [
    "#test_export\n",
    "from torch import optim\n",
    "from exp.common import tqdm\n",
    "for train in get_data():\n",
    "    break;\n",
    "train_X, train_Y = parse_train(train)\n",
    "# differs for tensor and model\n",
    "lr = 1e-2\n",
    "parser = Parser(model)\n",
    "op = optim.Adam(model.parameters(), lr=lr)\n",
    "\n",
    "if is_cuda():\n",
    "    model.cuda()\n",
    "    train_X, train_Y = map(lambda x:x.cuda(), (train_X, train_Y ) )"
   ]
  },
  {
   "cell_type": "code",
   "execution_count": 43,
   "metadata": {
    "ExecuteTime": {
     "end_time": "2020-03-23T11:23:04.235053Z",
     "start_time": "2020-03-23T11:23:02.095565Z"
    }
   },
   "outputs": [
    {
     "name": "stderr",
     "output_type": "stream",
     "text": [
      "/home/zengjianjun/anaconda3/envs/py3torch/lib/python3.7/site-packages/ipykernel_launcher.py:3: TqdmDeprecationWarning: This function will be removed in tqdm==5.0.0\n",
      "Please use `tqdm.notebook.tqdm` instead of `tqdm.tqdm_notebook`\n",
      "  This is separate from the ipykernel package so we can avoid doing imports until\n"
     ]
    },
    {
     "data": {
      "application/vnd.jupyter.widget-view+json": {
       "model_id": "c7232ba161b34d28bac7ab4d896b9777",
       "version_major": 2,
       "version_minor": 0
      },
      "text/plain": [
       "HBox(children=(FloatProgress(value=1.0, bar_style='info', max=1.0), HTML(value='')))"
      ]
     },
     "metadata": {},
     "output_type": "display_data"
    },
    {
     "name": "stdout",
     "output_type": "stream",
     "text": [
      "915.7990112304688 0.021538461538461538\n",
      "347.790283203125 0.8401465201465201\n",
      "\n"
     ]
    }
   ],
   "source": [
    "#test_export\n",
    "dev_metric = Metric('dev',  parser )\n",
    "for ep_idx, ep in tqdm(enumerate(range(20))):\n",
    "    model.zero_grad()\n",
    "    loss = model(train_X, train_Y)\n",
    "    loss.backward()\n",
    "    if(ep_idx%10 == 0):\n",
    "        print(loss.item(), dev_metric.cal_acc())\n",
    "    op.step()\n",
    "    "
   ]
  },
  {
   "cell_type": "code",
   "execution_count": 44,
   "metadata": {
    "ExecuteTime": {
     "end_time": "2020-03-23T11:23:06.207094Z",
     "start_time": "2020-03-23T11:23:04.237275Z"
    }
   },
   "outputs": [
    {
     "name": "stderr",
     "output_type": "stream",
     "text": [
      "/home/zengjianjun/anaconda3/envs/py3torch/lib/python3.7/site-packages/ipykernel_launcher.py:5: TqdmDeprecationWarning: This function will be removed in tqdm==5.0.0\n",
      "Please use `tqdm.notebook.tqdm` instead of `tqdm.tqdm_notebook`\n",
      "  \"\"\"\n"
     ]
    },
    {
     "data": {
      "application/vnd.jupyter.widget-view+json": {
       "model_id": "53ce236f58b548c6870eb7d464e23575",
       "version_major": 2,
       "version_minor": 0
      },
      "text/plain": [
       "HBox(children=(FloatProgress(value=0.0, max=38.0), HTML(value='')))"
      ]
     },
     "metadata": {},
     "output_type": "display_data"
    },
    {
     "data": {
      "text/plain": [
       "(91355.53125, 0.9039010989010989)"
      ]
     },
     "execution_count": 44,
     "metadata": {},
     "output_type": "execute_result"
    }
   ],
   "source": [
    "#test_export \n",
    "def train_ep(TEST=False, show_bar=True):\n",
    "    cnt = 0\n",
    "    it = get_data(100)\n",
    "    it = common.tqdm(it) if show_bar else it\n",
    "    losses = np.zeros(shape=(len(it), 1))\n",
    "    for train in it:\n",
    "        op.zero_grad()\n",
    "        train_X, train_Y = parse_train(train)\n",
    "        if is_cuda():\n",
    "            train_X = train_X.cuda()\n",
    "            train_Y = train_Y.cuda()\n",
    "\n",
    "        loss = model(train_X, train_Y)\n",
    "    #     print(outputs.shape, train_Y.shape)\n",
    "    #     loss = nn.CrossEntropyLoss(outputs, train_Y)\n",
    "        loss.backward()\n",
    "        op.step()\n",
    "#         strinfos.append(StringIO(f\"{cnt}\"))\n",
    "        gc.collect()\n",
    "        loss = loss.cpu().detach().numpy()\n",
    "        if common.IN_JUPYTER or common.IN_TRAVIS: \n",
    "            if is_cuda():\n",
    "                pass\n",
    "            else :\n",
    "                print(loss)\n",
    "                if cnt > 1: break\n",
    "                \n",
    "            if TEST and cnt > 5: break\n",
    "            \n",
    "        losses.append(loss)\n",
    "        cnt += 1\n",
    "#         break\n",
    "    return range(cnt), np.array(losses)\n",
    "tp = train_ep(True)\n",
    "loss = tp[1].mean()\n",
    "acc = dev_metric.cal_acc()\n",
    "loss, acc"
   ]
  },
  {
   "cell_type": "code",
   "execution_count": 45,
   "metadata": {
    "ExecuteTime": {
     "end_time": "2020-03-23T11:23:06.211323Z",
     "start_time": "2020-03-23T11:23:06.208779Z"
    }
   },
   "outputs": [],
   "source": [
    "#test_export\n",
    "epo_losses = []\n",
    "epo_acces = []"
   ]
  },
  {
   "cell_type": "code",
   "execution_count": 46,
   "metadata": {
    "ExecuteTime": {
     "end_time": "2020-03-23T11:23:39.893490Z",
     "start_time": "2020-03-23T11:23:06.212926Z"
    },
    "scrolled": true
   },
   "outputs": [
    {
     "name": "stderr",
     "output_type": "stream",
     "text": [
      "/home/zengjianjun/anaconda3/envs/py3torch/lib/python3.7/site-packages/ipykernel_launcher.py:2: TqdmDeprecationWarning: This function will be removed in tqdm==5.0.0\n",
      "Please use `tqdm.notebook.tqdm` instead of `tqdm.tqdm_notebook`\n",
      "  \n"
     ]
    },
    {
     "data": {
      "application/vnd.jupyter.widget-view+json": {
       "model_id": "fbfca50b040d457e8828102856c94054",
       "version_major": 2,
       "version_minor": 0
      },
      "text/plain": [
       "HBox(children=(FloatProgress(value=0.0, max=5.0), HTML(value='')))"
      ]
     },
     "metadata": {},
     "output_type": "display_data"
    },
    {
     "name": "stdout",
     "output_type": "stream",
     "text": [
      "\n",
      "239193.8791118421 0.9652380952380952\n",
      "109475.85022615132 0.975989010989011\n",
      "72219.89658717105 0.9801098901098901\n",
      "53786.02559621711 0.9821611721611722\n",
      "42533.36554276316 0.9823260073260073\n",
      "\n"
     ]
    }
   ],
   "source": [
    "#test_export\n",
    "for ep in common.tqdm(range(5)):\n",
    "    if not is_cuda():\n",
    "        if ep == 1:\n",
    "            break\n",
    "    tp = train_ep(show_bar=False)\n",
    "    loss = tp[1].mean()\n",
    "    acc = dev_metric.cal_acc()\n",
    "    print(loss, acc)\n",
    "    epo_losses.append(loss)\n",
    "    epo_acces.append(acc)"
   ]
  },
  {
   "cell_type": "code",
   "execution_count": 47,
   "metadata": {
    "ExecuteTime": {
     "end_time": "2020-03-23T11:23:40.179155Z",
     "start_time": "2020-03-23T11:23:39.895500Z"
    }
   },
   "outputs": [
    {
     "data": {
      "image/png": "[encoded data removed]",
      "text/plain": [
       "<Figure size 720x216 with 2 Axes>"
      ]
     },
     "metadata": {
      "needs_background": "light"
     },
     "output_type": "display_data"
    }
   ],
   "source": [
    "fig, m_axs = plt.subplots(1, 2, figsize = (10, 3)) \n",
    "pxy(range(len(epo_losses)), epo_losses, 'train-mean-loss', plt=m_axs[0])\n",
    "pxy(range(len(epo_acces)), epo_acces, 'dev-acc', plt=m_axs[1])"
   ]
  },
  {
   "cell_type": "code",
   "execution_count": 48,
   "metadata": {
    "ExecuteTime": {
     "end_time": "2020-03-23T11:23:40.761765Z",
     "start_time": "2020-03-23T11:23:40.180719Z"
    }
   },
   "outputs": [
    {
     "data": {
      "text/plain": [
       "True"
      ]
     },
     "execution_count": 48,
     "metadata": {},
     "output_type": "execute_result"
    }
   ],
   "source": [
    "#test_export\n",
    "test_metric = Metric('test', parser)\n",
    "test_acc = test_metric.cal_acc()\n",
    "dev_metric.cal_acc().should_not.equal(test_acc, 1e-5)"
   ]
  },
  {
   "cell_type": "code",
   "execution_count": 49,
   "metadata": {
    "ExecuteTime": {
     "end_time": "2020-03-23T11:23:41.483815Z",
     "start_time": "2020-03-23T11:23:40.763703Z"
    }
   },
   "outputs": [
    {
     "name": "stdout",
     "output_type": "stream",
     "text": [
      "           precision    recall  f1-score   support\n",
      "\n",
      "      PAD       1.00      1.00      1.00       396\n",
      "      ORG       0.75      0.80      0.77       468\n",
      "    TITLE       0.83      0.85      0.84       603\n",
      "      PRO       0.69      0.60      0.64        15\n",
      "     NAME       0.86      0.88      0.87        89\n",
      "      EDU       0.87      0.91      0.89        91\n",
      "     CONT       0.97      0.97      0.97        30\n",
      "     RACE       0.92      1.00      0.96        11\n",
      "      LOC       0.00      0.00      0.00         2\n",
      "\n",
      "micro avg       0.85      0.88      0.86      1705\n",
      "macro avg       0.85      0.88      0.86      1705\n",
      "\n"
     ]
    }
   ],
   "source": [
    "#test_export\n",
    "print(dev_metric.cal_report())"
   ]
  },
  {
   "cell_type": "code",
   "execution_count": 51,
   "metadata": {
    "ExecuteTime": {
     "end_time": "2020-03-23T11:24:00.340160Z",
     "start_time": "2020-03-23T11:24:00.334407Z"
    }
   },
   "outputs": [],
   "source": [
    "#test_export"
   ]
  },
  {
   "cell_type": "code",
   "execution_count": null,
   "metadata": {
    "ExecuteTime": {
     "end_time": "2020-03-23T11:23:41.627575Z",
     "start_time": "2020-03-23T11:22:49.739Z"
    }
   },
   "outputs": [],
   "source": [
    "# print(strinfos[169].getvalue())"
   ]
  },
  {
   "cell_type": "code",
   "execution_count": null,
   "metadata": {
    "ExecuteTime": {
     "end_time": "2020-03-23T11:23:41.628379Z",
     "start_time": "2020-03-23T11:22:49.744Z"
    }
   },
   "outputs": [],
   "source": [
    "# print_gc()"
   ]
  },
  {
   "cell_type": "markdown",
   "metadata": {},
   "source": [
    "# export"
   ]
  },
  {
   "cell_type": "code",
   "execution_count": null,
   "metadata": {
    "ExecuteTime": {
     "start_time": "2020-03-23T11:43:01.804Z"
    },
    "deletable": false,
    "editable": false
   },
   "outputs": [
    {
     "data": {
      "application/javascript": [
       "IPython.notebook.save_checkpoint();"
      ],
      "text/plain": [
       "<IPython.core.display.Javascript object>"
      ]
     },
     "metadata": {},
     "output_type": "display_data"
    },
    {
     "name": "stdout",
     "output_type": "stream",
     "text": [
      "Converted CRF.ipynb to ..\\exp\\CRF.py\n",
      "Converted CRF.ipynb to ..\\test\\test_CRF.py\n"
     ]
    }
   ],
   "source": [
    "common.save_and_export_notebook('CRF')"
   ]
  },
  {
   "cell_type": "code",
   "execution_count": null,
   "metadata": {},
   "outputs": [],
   "source": []
  }
 ],
 "metadata": {
  "kernelspec": {
   "display_name": "py3torch-cpu",
   "language": "python",
   "name": "py3torch-cpu"
  },
  "language_info": {
   "codemirror_mode": {
    "name": "ipython",
    "version": 3
   },
   "file_extension": ".py",
   "mimetype": "text/x-python",
   "name": "python",
   "nbconvert_exporter": "python",
   "pygments_lexer": "ipython3",
   "version": "3.7.6"
  },
  "toc": {
   "base_numbering": 1,
   "nav_menu": {},
   "number_sections": true,
   "sideBar": true,
   "skip_h1_title": false,
   "title_cell": "Table of Contents",
   "title_sidebar": "Contents",
   "toc_cell": false,
   "toc_position": {},
   "toc_section_display": true,
   "toc_window_display": false
  }
 },
 "nbformat": 4,
 "nbformat_minor": 2
}
